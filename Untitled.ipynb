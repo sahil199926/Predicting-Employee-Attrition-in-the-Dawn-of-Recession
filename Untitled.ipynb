{
 "cells": [
  {
   "cell_type": "code",
   "execution_count": 1,
   "metadata": {},
   "outputs": [
    {
     "name": "stderr",
     "output_type": "stream",
     "text": [
      "C:\\Users\\sahil\\Anaconda3\\lib\\site-packages\\statsmodels\\tools\\_testing.py:19: FutureWarning: pandas.util.testing is deprecated. Use the functions in the public API at pandas.testing instead.\n",
      "  import pandas.util.testing as tm\n"
     ]
    }
   ],
   "source": [
    "import pandas as pd\n",
    "import numpy as np\n",
    "import matplotlib.pyplot as plt\n",
    "import seaborn as sns\n",
    "%matplotlib inline\n",
    "from sklearn.model_selection import train_test_split \n",
    "from pandas_profiling import profile_report\n",
    "from sklearn.metrics import confusion_matrix,classification_report,roc_auc_score\n",
    "from sklearn.feature_selection import SelectKBest\n",
    "from sklearn.feature_selection import chi2\n",
    "from sklearn.preprocessing import MinMaxScaler\n",
    "from sklearn.preprocessing import MaxAbsScaler\n",
    "from sklearn.preprocessing import StandardScaler\n",
    "from sklearn.preprocessing import RobustScaler\n",
    "from sklearn.preprocessing import Normalizer\n",
    "from sklearn.preprocessing import QuantileTransformer\n",
    "from sklearn.preprocessing import PowerTransformer\n",
    "from sklearn.decomposition import PCA\n",
    "from sklearn.preprocessing import OneHotEncoder\n",
    "from sklearn.preprocessing import LabelEncoder\n",
    "from sklearn.ensemble import RandomForestClassifier,AdaBoostClassifier,AdaBoostRegressor,RandomForestRegressor\n",
    "from xgboost import XGBClassifier ,XGBRegressor\n",
    "from sklearn.linear_model import LogisticRegression\n",
    "from sklearn.naive_bayes import MultinomialNB\n",
    "sns.set_style('darkgrid')"
   ]
  },
  {
   "cell_type": "code",
   "execution_count": 2,
   "metadata": {},
   "outputs": [],
   "source": [
    "df_train= pd.read_csv('train.csv',index_col='Id')\n",
    "df_train.drop('EmployeeNumber',axis=1,inplace=True)"
   ]
  },
  {
   "cell_type": "code",
   "execution_count": 3,
   "metadata": {},
   "outputs": [],
   "source": [
    "X_test=pd.read_csv('test.csv',index_col='Id')\n",
    "X_test.drop('EmployeeNumber',axis=1,inplace=True)"
   ]
  },
  {
   "cell_type": "code",
   "execution_count": 4,
   "metadata": {},
   "outputs": [
    {
     "data": {
      "text/plain": [
       "<matplotlib.axes._subplots.AxesSubplot at 0x22a5a7c9b08>"
      ]
     },
     "execution_count": 4,
     "metadata": {},
     "output_type": "execute_result"
    },
    {
     "data": {
      "image/png": "[encoded data removed]",
      "text/plain": [
       "<Figure size 432x288 with 2 Axes>"
      ]
     },
     "metadata": {
      "needs_background": "light"
     },
     "output_type": "display_data"
    }
   ],
   "source": [
    "sns.heatmap(df_train.isnull())"
   ]
  },
  {
   "cell_type": "code",
   "execution_count": 8,
   "metadata": {},
   "outputs": [
    {
     "data": {
      "text/plain": [
       "42.0"
      ]
     },
     "execution_count": 8,
     "metadata": {},
     "output_type": "execute_result"
    }
   ],
   "source": [
    "df_train.Age.quantile(.75)"
   ]
  },
  {
   "cell_type": "code",
   "execution_count": null,
   "metadata": {},
   "outputs": [],
   "source": []
  },
  {
   "cell_type": "code",
   "execution_count": null,
   "metadata": {},
   "outputs": [],
   "source": []
  },
  {
   "cell_type": "code",
   "execution_count": 14,
   "metadata": {},
   "outputs": [],
   "source": []
  },
  {
   "cell_type": "code",
   "execution_count": 24,
   "metadata": {},
   "outputs": [],
   "source": [
    "lb=LabelEncoder()"
   ]
  },
  {
   "cell_type": "code",
   "execution_count": 25,
   "metadata": {},
   "outputs": [],
   "source": [
    "def a(df,test,c):\n",
    "    for i in c:\n",
    "        df[i]=lb.fit_transform(df[i])\n",
    "        test[i]=lb.fit_transform(test[i])"
   ]
  },
  {
   "cell_type": "code",
   "execution_count": 26,
   "metadata": {},
   "outputs": [],
   "source": [
    "a(df_train,['BusinessTravel','Department'])"
   ]
  },
  {
   "cell_type": "code",
   "execution_count": 27,
   "metadata": {},
   "outputs": [
    {
     "data": {
      "text/html": [
       "<div>\n",
       "<style scoped>\n",
       "    .dataframe tbody tr th:only-of-type {\n",
       "        vertical-align: middle;\n",
       "    }\n",
       "\n",
       "    .dataframe tbody tr th {\n",
       "        vertical-align: top;\n",
       "    }\n",
       "\n",
       "    .dataframe thead th {\n",
       "        text-align: right;\n",
       "    }\n",
       "</style>\n",
       "<table border=\"1\" class=\"dataframe\">\n",
       "  <thead>\n",
       "    <tr style=\"text-align: right;\">\n",
       "      <th></th>\n",
       "      <th>Age</th>\n",
       "      <th>Attrition</th>\n",
       "      <th>BusinessTravel</th>\n",
       "      <th>Department</th>\n",
       "      <th>DistanceFromHome</th>\n",
       "      <th>Education</th>\n",
       "      <th>EducationField</th>\n",
       "      <th>EnvironmentSatisfaction</th>\n",
       "      <th>Gender</th>\n",
       "      <th>JobInvolvement</th>\n",
       "      <th>...</th>\n",
       "      <th>PerformanceRating</th>\n",
       "      <th>StockOptionLevel</th>\n",
       "      <th>TotalWorkingYears</th>\n",
       "      <th>TrainingTimesLastYear</th>\n",
       "      <th>YearsAtCompany</th>\n",
       "      <th>YearsInCurrentRole</th>\n",
       "      <th>YearsSinceLastPromotion</th>\n",
       "      <th>YearsWithCurrManager</th>\n",
       "      <th>CommunicationSkill</th>\n",
       "      <th>Behaviour</th>\n",
       "    </tr>\n",
       "    <tr>\n",
       "      <th>Id</th>\n",
       "      <th></th>\n",
       "      <th></th>\n",
       "      <th></th>\n",
       "      <th></th>\n",
       "      <th></th>\n",
       "      <th></th>\n",
       "      <th></th>\n",
       "      <th></th>\n",
       "      <th></th>\n",
       "      <th></th>\n",
       "      <th></th>\n",
       "      <th></th>\n",
       "      <th></th>\n",
       "      <th></th>\n",
       "      <th></th>\n",
       "      <th></th>\n",
       "      <th></th>\n",
       "      <th></th>\n",
       "      <th></th>\n",
       "      <th></th>\n",
       "      <th></th>\n",
       "    </tr>\n",
       "  </thead>\n",
       "  <tbody>\n",
       "    <tr>\n",
       "      <th>1</th>\n",
       "      <td>30</td>\n",
       "      <td>0</td>\n",
       "      <td>0</td>\n",
       "      <td>1</td>\n",
       "      <td>2</td>\n",
       "      <td>3</td>\n",
       "      <td>Medical</td>\n",
       "      <td>3</td>\n",
       "      <td>Female</td>\n",
       "      <td>3</td>\n",
       "      <td>...</td>\n",
       "      <td>3</td>\n",
       "      <td>0</td>\n",
       "      <td>12</td>\n",
       "      <td>2</td>\n",
       "      <td>11</td>\n",
       "      <td>7</td>\n",
       "      <td>6</td>\n",
       "      <td>7</td>\n",
       "      <td>4</td>\n",
       "      <td>1</td>\n",
       "    </tr>\n",
       "    <tr>\n",
       "      <th>2</th>\n",
       "      <td>36</td>\n",
       "      <td>0</td>\n",
       "      <td>2</td>\n",
       "      <td>1</td>\n",
       "      <td>12</td>\n",
       "      <td>4</td>\n",
       "      <td>Life Sciences</td>\n",
       "      <td>3</td>\n",
       "      <td>Female</td>\n",
       "      <td>3</td>\n",
       "      <td>...</td>\n",
       "      <td>3</td>\n",
       "      <td>2</td>\n",
       "      <td>7</td>\n",
       "      <td>2</td>\n",
       "      <td>3</td>\n",
       "      <td>2</td>\n",
       "      <td>1</td>\n",
       "      <td>1</td>\n",
       "      <td>2</td>\n",
       "      <td>1</td>\n",
       "    </tr>\n",
       "    <tr>\n",
       "      <th>3</th>\n",
       "      <td>55</td>\n",
       "      <td>1</td>\n",
       "      <td>2</td>\n",
       "      <td>2</td>\n",
       "      <td>2</td>\n",
       "      <td>1</td>\n",
       "      <td>Medical</td>\n",
       "      <td>3</td>\n",
       "      <td>Male</td>\n",
       "      <td>3</td>\n",
       "      <td>...</td>\n",
       "      <td>3</td>\n",
       "      <td>0</td>\n",
       "      <td>12</td>\n",
       "      <td>3</td>\n",
       "      <td>9</td>\n",
       "      <td>7</td>\n",
       "      <td>7</td>\n",
       "      <td>3</td>\n",
       "      <td>5</td>\n",
       "      <td>1</td>\n",
       "    </tr>\n",
       "    <tr>\n",
       "      <th>4</th>\n",
       "      <td>39</td>\n",
       "      <td>0</td>\n",
       "      <td>2</td>\n",
       "      <td>1</td>\n",
       "      <td>24</td>\n",
       "      <td>1</td>\n",
       "      <td>Life Sciences</td>\n",
       "      <td>1</td>\n",
       "      <td>Male</td>\n",
       "      <td>3</td>\n",
       "      <td>...</td>\n",
       "      <td>3</td>\n",
       "      <td>0</td>\n",
       "      <td>18</td>\n",
       "      <td>2</td>\n",
       "      <td>7</td>\n",
       "      <td>7</td>\n",
       "      <td>1</td>\n",
       "      <td>7</td>\n",
       "      <td>4</td>\n",
       "      <td>1</td>\n",
       "    </tr>\n",
       "    <tr>\n",
       "      <th>5</th>\n",
       "      <td>37</td>\n",
       "      <td>0</td>\n",
       "      <td>2</td>\n",
       "      <td>1</td>\n",
       "      <td>3</td>\n",
       "      <td>3</td>\n",
       "      <td>Other</td>\n",
       "      <td>3</td>\n",
       "      <td>Male</td>\n",
       "      <td>3</td>\n",
       "      <td>...</td>\n",
       "      <td>3</td>\n",
       "      <td>1</td>\n",
       "      <td>10</td>\n",
       "      <td>2</td>\n",
       "      <td>10</td>\n",
       "      <td>7</td>\n",
       "      <td>7</td>\n",
       "      <td>8</td>\n",
       "      <td>1</td>\n",
       "      <td>1</td>\n",
       "    </tr>\n",
       "    <tr>\n",
       "      <th>...</th>\n",
       "      <td>...</td>\n",
       "      <td>...</td>\n",
       "      <td>...</td>\n",
       "      <td>...</td>\n",
       "      <td>...</td>\n",
       "      <td>...</td>\n",
       "      <td>...</td>\n",
       "      <td>...</td>\n",
       "      <td>...</td>\n",
       "      <td>...</td>\n",
       "      <td>...</td>\n",
       "      <td>...</td>\n",
       "      <td>...</td>\n",
       "      <td>...</td>\n",
       "      <td>...</td>\n",
       "      <td>...</td>\n",
       "      <td>...</td>\n",
       "      <td>...</td>\n",
       "      <td>...</td>\n",
       "      <td>...</td>\n",
       "      <td>...</td>\n",
       "    </tr>\n",
       "    <tr>\n",
       "      <th>1624</th>\n",
       "      <td>42</td>\n",
       "      <td>1</td>\n",
       "      <td>1</td>\n",
       "      <td>1</td>\n",
       "      <td>19</td>\n",
       "      <td>3</td>\n",
       "      <td>Medical</td>\n",
       "      <td>3</td>\n",
       "      <td>Male</td>\n",
       "      <td>4</td>\n",
       "      <td>...</td>\n",
       "      <td>3</td>\n",
       "      <td>0</td>\n",
       "      <td>7</td>\n",
       "      <td>2</td>\n",
       "      <td>2</td>\n",
       "      <td>2</td>\n",
       "      <td>2</td>\n",
       "      <td>2</td>\n",
       "      <td>3</td>\n",
       "      <td>1</td>\n",
       "    </tr>\n",
       "    <tr>\n",
       "      <th>1625</th>\n",
       "      <td>55</td>\n",
       "      <td>1</td>\n",
       "      <td>2</td>\n",
       "      <td>2</td>\n",
       "      <td>2</td>\n",
       "      <td>1</td>\n",
       "      <td>Medical</td>\n",
       "      <td>3</td>\n",
       "      <td>Male</td>\n",
       "      <td>3</td>\n",
       "      <td>...</td>\n",
       "      <td>3</td>\n",
       "      <td>0</td>\n",
       "      <td>12</td>\n",
       "      <td>3</td>\n",
       "      <td>9</td>\n",
       "      <td>7</td>\n",
       "      <td>7</td>\n",
       "      <td>3</td>\n",
       "      <td>5</td>\n",
       "      <td>1</td>\n",
       "    </tr>\n",
       "    <tr>\n",
       "      <th>1626</th>\n",
       "      <td>25</td>\n",
       "      <td>1</td>\n",
       "      <td>2</td>\n",
       "      <td>2</td>\n",
       "      <td>9</td>\n",
       "      <td>2</td>\n",
       "      <td>Life Sciences</td>\n",
       "      <td>1</td>\n",
       "      <td>Male</td>\n",
       "      <td>2</td>\n",
       "      <td>...</td>\n",
       "      <td>3</td>\n",
       "      <td>0</td>\n",
       "      <td>6</td>\n",
       "      <td>2</td>\n",
       "      <td>3</td>\n",
       "      <td>2</td>\n",
       "      <td>2</td>\n",
       "      <td>2</td>\n",
       "      <td>5</td>\n",
       "      <td>1</td>\n",
       "    </tr>\n",
       "    <tr>\n",
       "      <th>1627</th>\n",
       "      <td>29</td>\n",
       "      <td>1</td>\n",
       "      <td>2</td>\n",
       "      <td>0</td>\n",
       "      <td>13</td>\n",
       "      <td>3</td>\n",
       "      <td>Human Resources</td>\n",
       "      <td>1</td>\n",
       "      <td>Male</td>\n",
       "      <td>2</td>\n",
       "      <td>...</td>\n",
       "      <td>3</td>\n",
       "      <td>3</td>\n",
       "      <td>4</td>\n",
       "      <td>3</td>\n",
       "      <td>2</td>\n",
       "      <td>2</td>\n",
       "      <td>2</td>\n",
       "      <td>0</td>\n",
       "      <td>5</td>\n",
       "      <td>1</td>\n",
       "    </tr>\n",
       "    <tr>\n",
       "      <th>1628</th>\n",
       "      <td>29</td>\n",
       "      <td>1</td>\n",
       "      <td>2</td>\n",
       "      <td>1</td>\n",
       "      <td>18</td>\n",
       "      <td>1</td>\n",
       "      <td>Medical</td>\n",
       "      <td>3</td>\n",
       "      <td>Male</td>\n",
       "      <td>2</td>\n",
       "      <td>...</td>\n",
       "      <td>3</td>\n",
       "      <td>0</td>\n",
       "      <td>4</td>\n",
       "      <td>3</td>\n",
       "      <td>4</td>\n",
       "      <td>3</td>\n",
       "      <td>0</td>\n",
       "      <td>1</td>\n",
       "      <td>2</td>\n",
       "      <td>1</td>\n",
       "    </tr>\n",
       "  </tbody>\n",
       "</table>\n",
       "<p>1628 rows × 27 columns</p>\n",
       "</div>"
      ],
      "text/plain": [
       "      Age  Attrition  BusinessTravel  Department  DistanceFromHome  Education  \\\n",
       "Id                                                                              \n",
       "1      30          0               0           1                 2          3   \n",
       "2      36          0               2           1                12          4   \n",
       "3      55          1               2           2                 2          1   \n",
       "4      39          0               2           1                24          1   \n",
       "5      37          0               2           1                 3          3   \n",
       "...   ...        ...             ...         ...               ...        ...   \n",
       "1624   42          1               1           1                19          3   \n",
       "1625   55          1               2           2                 2          1   \n",
       "1626   25          1               2           2                 9          2   \n",
       "1627   29          1               2           0                13          3   \n",
       "1628   29          1               2           1                18          1   \n",
       "\n",
       "       EducationField  EnvironmentSatisfaction  Gender  JobInvolvement  ...  \\\n",
       "Id                                                                      ...   \n",
       "1             Medical                        3  Female               3  ...   \n",
       "2       Life Sciences                        3  Female               3  ...   \n",
       "3             Medical                        3    Male               3  ...   \n",
       "4       Life Sciences                        1    Male               3  ...   \n",
       "5               Other                        3    Male               3  ...   \n",
       "...               ...                      ...     ...             ...  ...   \n",
       "1624          Medical                        3    Male               4  ...   \n",
       "1625          Medical                        3    Male               3  ...   \n",
       "1626    Life Sciences                        1    Male               2  ...   \n",
       "1627  Human Resources                        1    Male               2  ...   \n",
       "1628          Medical                        3    Male               2  ...   \n",
       "\n",
       "     PerformanceRating  StockOptionLevel TotalWorkingYears  \\\n",
       "Id                                                           \n",
       "1                    3                 0                12   \n",
       "2                    3                 2                 7   \n",
       "3                    3                 0                12   \n",
       "4                    3                 0                18   \n",
       "5                    3                 1                10   \n",
       "...                ...               ...               ...   \n",
       "1624                 3                 0                 7   \n",
       "1625                 3                 0                12   \n",
       "1626                 3                 0                 6   \n",
       "1627                 3                 3                 4   \n",
       "1628                 3                 0                 4   \n",
       "\n",
       "      TrainingTimesLastYear  YearsAtCompany YearsInCurrentRole  \\\n",
       "Id                                                               \n",
       "1                         2              11                  7   \n",
       "2                         2               3                  2   \n",
       "3                         3               9                  7   \n",
       "4                         2               7                  7   \n",
       "5                         2              10                  7   \n",
       "...                     ...             ...                ...   \n",
       "1624                      2               2                  2   \n",
       "1625                      3               9                  7   \n",
       "1626                      2               3                  2   \n",
       "1627                      3               2                  2   \n",
       "1628                      3               4                  3   \n",
       "\n",
       "      YearsSinceLastPromotion  YearsWithCurrManager  CommunicationSkill  \\\n",
       "Id                                                                        \n",
       "1                           6                     7                   4   \n",
       "2                           1                     1                   2   \n",
       "3                           7                     3                   5   \n",
       "4                           1                     7                   4   \n",
       "5                           7                     8                   1   \n",
       "...                       ...                   ...                 ...   \n",
       "1624                        2                     2                   3   \n",
       "1625                        7                     3                   5   \n",
       "1626                        2                     2                   5   \n",
       "1627                        2                     0                   5   \n",
       "1628                        0                     1                   2   \n",
       "\n",
       "      Behaviour  \n",
       "Id               \n",
       "1             1  \n",
       "2             1  \n",
       "3             1  \n",
       "4             1  \n",
       "5             1  \n",
       "...         ...  \n",
       "1624          1  \n",
       "1625          1  \n",
       "1626          1  \n",
       "1627          1  \n",
       "1628          1  \n",
       "\n",
       "[1628 rows x 27 columns]"
      ]
     },
     "execution_count": 27,
     "metadata": {},
     "output_type": "execute_result"
    }
   ],
   "source": [
    "df_train"
   ]
  },
  {
   "cell_type": "code",
   "execution_count": null,
   "metadata": {},
   "outputs": [],
   "source": []
  },
  {
   "cell_type": "code",
   "execution_count": null,
   "metadata": {},
   "outputs": [],
   "source": [
    "#df_train.BusinessTravel=lb.fit_transform(df_train.BusinessTravel)"
   ]
  },
  {
   "cell_type": "code",
   "execution_count": null,
   "metadata": {},
   "outputs": [],
   "source": []
  },
  {
   "cell_type": "code",
   "execution_count": null,
   "metadata": {},
   "outputs": [],
   "source": []
  },
  {
   "cell_type": "code",
   "execution_count": 5,
   "metadata": {},
   "outputs": [
    {
     "data": {
      "text/plain": [
       "<matplotlib.axes._subplots.AxesSubplot at 0x1ecef311ac8>"
      ]
     },
     "execution_count": 5,
     "metadata": {},
     "output_type": "execute_result"
    },
    {
     "data": {
      "image/png": "[encoded data removed]",
      "text/plain": [
       "<Figure size 432x288 with 1 Axes>"
      ]
     },
     "metadata": {
      "needs_background": "light"
     },
     "output_type": "display_data"
    }
   ],
   "source": [
    "sns.countplot(df_train.Education,hue=df_train.Attrition)"
   ]
  },
  {
   "cell_type": "code",
   "execution_count": 6,
   "metadata": {},
   "outputs": [],
   "source": [
    "#feature selection"
   ]
  },
  {
   "cell_type": "code",
   "execution_count": 7,
   "metadata": {},
   "outputs": [
    {
     "data": {
      "text/plain": [
       "0    843\n",
       "1    785\n",
       "Name: Attrition, dtype: int64"
      ]
     },
     "execution_count": 7,
     "metadata": {},
     "output_type": "execute_result"
    }
   ],
   "source": [
    "#with duplicates\n",
    "df_train.Attrition.value_counts()"
   ]
  },
  {
   "cell_type": "code",
   "execution_count": 8,
   "metadata": {},
   "outputs": [
    {
     "data": {
      "text/plain": [
       "0    843\n",
       "1    157\n",
       "Name: Attrition, dtype: int64"
      ]
     },
     "execution_count": 8,
     "metadata": {},
     "output_type": "execute_result"
    }
   ],
   "source": [
    "#without duplicates\n",
    "df_train.Attrition.value_counts()\n",
    "df_train.drop_duplicates().Attrition.value_counts()"
   ]
  },
  {
   "cell_type": "code",
   "execution_count": null,
   "metadata": {},
   "outputs": [],
   "source": []
  },
  {
   "cell_type": "code",
   "execution_count": 9,
   "metadata": {},
   "outputs": [
    {
     "name": "stdout",
     "output_type": "stream",
     "text": [
      "Age--->43\n",
      "Attrition--->2\n",
      "BusinessTravel--->3\n",
      "Department--->3\n",
      "DistanceFromHome--->29\n",
      "Education--->5\n",
      "EducationField--->6\n",
      "EnvironmentSatisfaction--->4\n",
      "Gender--->2\n",
      "JobInvolvement--->4\n",
      "JobRole--->9\n",
      "JobSatisfaction--->4\n",
      "MaritalStatus--->3\n",
      "MonthlyIncome--->941\n",
      "NumCompaniesWorked--->10\n",
      "OverTime--->2\n",
      "PercentSalaryHike--->15\n",
      "PerformanceRating--->2\n",
      "StockOptionLevel--->4\n",
      "TotalWorkingYears--->39\n",
      "TrainingTimesLastYear--->7\n",
      "YearsAtCompany--->36\n",
      "YearsInCurrentRole--->19\n",
      "YearsSinceLastPromotion--->16\n",
      "YearsWithCurrManager--->18\n",
      "CommunicationSkill--->5\n",
      "Behaviour--->1\n"
     ]
    }
   ],
   "source": [
    "for i in df_train.columns:\n",
    "    print(i + '--->'+ str(df_train[i].nunique()))"
   ]
  },
  {
   "cell_type": "code",
   "execution_count": 10,
   "metadata": {},
   "outputs": [
    {
     "data": {
      "text/html": [
       "<div>\n",
       "<style scoped>\n",
       "    .dataframe tbody tr th:only-of-type {\n",
       "        vertical-align: middle;\n",
       "    }\n",
       "\n",
       "    .dataframe tbody tr th {\n",
       "        vertical-align: top;\n",
       "    }\n",
       "\n",
       "    .dataframe thead th {\n",
       "        text-align: right;\n",
       "    }\n",
       "</style>\n",
       "<table border=\"1\" class=\"dataframe\">\n",
       "  <thead>\n",
       "    <tr style=\"text-align: right;\">\n",
       "      <th></th>\n",
       "      <th>Age</th>\n",
       "      <th>Attrition</th>\n",
       "      <th>DistanceFromHome</th>\n",
       "      <th>Education</th>\n",
       "      <th>EnvironmentSatisfaction</th>\n",
       "      <th>JobInvolvement</th>\n",
       "      <th>JobSatisfaction</th>\n",
       "      <th>MonthlyIncome</th>\n",
       "      <th>NumCompaniesWorked</th>\n",
       "      <th>PercentSalaryHike</th>\n",
       "      <th>PerformanceRating</th>\n",
       "      <th>StockOptionLevel</th>\n",
       "      <th>TotalWorkingYears</th>\n",
       "      <th>TrainingTimesLastYear</th>\n",
       "      <th>YearsAtCompany</th>\n",
       "      <th>YearsInCurrentRole</th>\n",
       "      <th>YearsSinceLastPromotion</th>\n",
       "      <th>YearsWithCurrManager</th>\n",
       "      <th>CommunicationSkill</th>\n",
       "      <th>Behaviour</th>\n",
       "    </tr>\n",
       "  </thead>\n",
       "  <tbody>\n",
       "    <tr>\n",
       "      <th>Age</th>\n",
       "      <td>1.000000</td>\n",
       "      <td>-0.200596</td>\n",
       "      <td>0.020658</td>\n",
       "      <td>0.219237</td>\n",
       "      <td>0.001950</td>\n",
       "      <td>0.073185</td>\n",
       "      <td>0.037604</td>\n",
       "      <td>0.509210</td>\n",
       "      <td>0.312099</td>\n",
       "      <td>0.034546</td>\n",
       "      <td>0.002982</td>\n",
       "      <td>0.126257</td>\n",
       "      <td>0.675578</td>\n",
       "      <td>0.004789</td>\n",
       "      <td>0.355438</td>\n",
       "      <td>0.266728</td>\n",
       "      <td>0.222113</td>\n",
       "      <td>0.263792</td>\n",
       "      <td>0.019341</td>\n",
       "      <td>NaN</td>\n",
       "    </tr>\n",
       "    <tr>\n",
       "      <th>Attrition</th>\n",
       "      <td>-0.200596</td>\n",
       "      <td>1.000000</td>\n",
       "      <td>0.109224</td>\n",
       "      <td>-0.041390</td>\n",
       "      <td>-0.111746</td>\n",
       "      <td>-0.159710</td>\n",
       "      <td>-0.148012</td>\n",
       "      <td>-0.240479</td>\n",
       "      <td>0.034763</td>\n",
       "      <td>-0.012668</td>\n",
       "      <td>0.010202</td>\n",
       "      <td>-0.175496</td>\n",
       "      <td>-0.262922</td>\n",
       "      <td>-0.105663</td>\n",
       "      <td>-0.230061</td>\n",
       "      <td>-0.269408</td>\n",
       "      <td>-0.050379</td>\n",
       "      <td>-0.222752</td>\n",
       "      <td>0.103379</td>\n",
       "      <td>NaN</td>\n",
       "    </tr>\n",
       "    <tr>\n",
       "      <th>DistanceFromHome</th>\n",
       "      <td>0.020658</td>\n",
       "      <td>0.109224</td>\n",
       "      <td>1.000000</td>\n",
       "      <td>0.023945</td>\n",
       "      <td>-0.046390</td>\n",
       "      <td>0.016316</td>\n",
       "      <td>-0.097558</td>\n",
       "      <td>0.012521</td>\n",
       "      <td>-0.048131</td>\n",
       "      <td>0.103452</td>\n",
       "      <td>0.071457</td>\n",
       "      <td>0.029378</td>\n",
       "      <td>0.029289</td>\n",
       "      <td>-0.032038</td>\n",
       "      <td>-0.030392</td>\n",
       "      <td>-0.010607</td>\n",
       "      <td>0.004460</td>\n",
       "      <td>-0.004135</td>\n",
       "      <td>-0.036109</td>\n",
       "      <td>NaN</td>\n",
       "    </tr>\n",
       "    <tr>\n",
       "      <th>Education</th>\n",
       "      <td>0.219237</td>\n",
       "      <td>-0.041390</td>\n",
       "      <td>0.023945</td>\n",
       "      <td>1.000000</td>\n",
       "      <td>-0.065041</td>\n",
       "      <td>0.083673</td>\n",
       "      <td>-0.036143</td>\n",
       "      <td>0.119907</td>\n",
       "      <td>0.091690</td>\n",
       "      <td>0.013565</td>\n",
       "      <td>-0.036204</td>\n",
       "      <td>0.042585</td>\n",
       "      <td>0.175662</td>\n",
       "      <td>-0.043272</td>\n",
       "      <td>0.145911</td>\n",
       "      <td>0.076579</td>\n",
       "      <td>0.076430</td>\n",
       "      <td>0.121981</td>\n",
       "      <td>0.000223</td>\n",
       "      <td>NaN</td>\n",
       "    </tr>\n",
       "    <tr>\n",
       "      <th>EnvironmentSatisfaction</th>\n",
       "      <td>0.001950</td>\n",
       "      <td>-0.111746</td>\n",
       "      <td>-0.046390</td>\n",
       "      <td>-0.065041</td>\n",
       "      <td>1.000000</td>\n",
       "      <td>-0.000977</td>\n",
       "      <td>0.035033</td>\n",
       "      <td>-0.033990</td>\n",
       "      <td>-0.051681</td>\n",
       "      <td>-0.032655</td>\n",
       "      <td>-0.041427</td>\n",
       "      <td>-0.006479</td>\n",
       "      <td>-0.019005</td>\n",
       "      <td>0.020531</td>\n",
       "      <td>0.000685</td>\n",
       "      <td>0.008028</td>\n",
       "      <td>0.014325</td>\n",
       "      <td>0.002457</td>\n",
       "      <td>-0.011557</td>\n",
       "      <td>NaN</td>\n",
       "    </tr>\n",
       "    <tr>\n",
       "      <th>JobInvolvement</th>\n",
       "      <td>0.073185</td>\n",
       "      <td>-0.159710</td>\n",
       "      <td>0.016316</td>\n",
       "      <td>0.083673</td>\n",
       "      <td>-0.000977</td>\n",
       "      <td>1.000000</td>\n",
       "      <td>-0.005453</td>\n",
       "      <td>0.005859</td>\n",
       "      <td>0.012240</td>\n",
       "      <td>-0.042988</td>\n",
       "      <td>-0.063512</td>\n",
       "      <td>0.061673</td>\n",
       "      <td>0.037145</td>\n",
       "      <td>-0.027122</td>\n",
       "      <td>-0.008208</td>\n",
       "      <td>0.029460</td>\n",
       "      <td>0.006373</td>\n",
       "      <td>0.062552</td>\n",
       "      <td>0.052877</td>\n",
       "      <td>NaN</td>\n",
       "    </tr>\n",
       "    <tr>\n",
       "      <th>JobSatisfaction</th>\n",
       "      <td>0.037604</td>\n",
       "      <td>-0.148012</td>\n",
       "      <td>-0.097558</td>\n",
       "      <td>-0.036143</td>\n",
       "      <td>0.035033</td>\n",
       "      <td>-0.005453</td>\n",
       "      <td>1.000000</td>\n",
       "      <td>0.003255</td>\n",
       "      <td>-0.032738</td>\n",
       "      <td>-0.077425</td>\n",
       "      <td>-0.078554</td>\n",
       "      <td>0.024867</td>\n",
       "      <td>0.012892</td>\n",
       "      <td>-0.012757</td>\n",
       "      <td>0.023714</td>\n",
       "      <td>0.036065</td>\n",
       "      <td>0.004439</td>\n",
       "      <td>-0.006131</td>\n",
       "      <td>-0.051464</td>\n",
       "      <td>NaN</td>\n",
       "    </tr>\n",
       "    <tr>\n",
       "      <th>MonthlyIncome</th>\n",
       "      <td>0.509210</td>\n",
       "      <td>-0.240479</td>\n",
       "      <td>0.012521</td>\n",
       "      <td>0.119907</td>\n",
       "      <td>-0.033990</td>\n",
       "      <td>0.005859</td>\n",
       "      <td>0.003255</td>\n",
       "      <td>1.000000</td>\n",
       "      <td>0.169025</td>\n",
       "      <td>-0.017738</td>\n",
       "      <td>-0.037533</td>\n",
       "      <td>0.012281</td>\n",
       "      <td>0.759658</td>\n",
       "      <td>-0.020173</td>\n",
       "      <td>0.536715</td>\n",
       "      <td>0.418501</td>\n",
       "      <td>0.340080</td>\n",
       "      <td>0.401007</td>\n",
       "      <td>-0.060311</td>\n",
       "      <td>NaN</td>\n",
       "    </tr>\n",
       "    <tr>\n",
       "      <th>NumCompaniesWorked</th>\n",
       "      <td>0.312099</td>\n",
       "      <td>0.034763</td>\n",
       "      <td>-0.048131</td>\n",
       "      <td>0.091690</td>\n",
       "      <td>-0.051681</td>\n",
       "      <td>0.012240</td>\n",
       "      <td>-0.032738</td>\n",
       "      <td>0.169025</td>\n",
       "      <td>1.000000</td>\n",
       "      <td>0.015858</td>\n",
       "      <td>-0.015765</td>\n",
       "      <td>0.069008</td>\n",
       "      <td>0.226706</td>\n",
       "      <td>-0.043610</td>\n",
       "      <td>-0.099854</td>\n",
       "      <td>-0.081803</td>\n",
       "      <td>-0.046999</td>\n",
       "      <td>-0.116915</td>\n",
       "      <td>0.013289</td>\n",
       "      <td>NaN</td>\n",
       "    </tr>\n",
       "    <tr>\n",
       "      <th>PercentSalaryHike</th>\n",
       "      <td>0.034546</td>\n",
       "      <td>-0.012668</td>\n",
       "      <td>0.103452</td>\n",
       "      <td>0.013565</td>\n",
       "      <td>-0.032655</td>\n",
       "      <td>-0.042988</td>\n",
       "      <td>-0.077425</td>\n",
       "      <td>-0.017738</td>\n",
       "      <td>0.015858</td>\n",
       "      <td>1.000000</td>\n",
       "      <td>0.785024</td>\n",
       "      <td>0.025835</td>\n",
       "      <td>0.006266</td>\n",
       "      <td>0.008500</td>\n",
       "      <td>0.002299</td>\n",
       "      <td>0.029127</td>\n",
       "      <td>-0.036528</td>\n",
       "      <td>0.020399</td>\n",
       "      <td>0.004156</td>\n",
       "      <td>NaN</td>\n",
       "    </tr>\n",
       "    <tr>\n",
       "      <th>PerformanceRating</th>\n",
       "      <td>0.002982</td>\n",
       "      <td>0.010202</td>\n",
       "      <td>0.071457</td>\n",
       "      <td>-0.036204</td>\n",
       "      <td>-0.041427</td>\n",
       "      <td>-0.063512</td>\n",
       "      <td>-0.078554</td>\n",
       "      <td>-0.037533</td>\n",
       "      <td>-0.015765</td>\n",
       "      <td>0.785024</td>\n",
       "      <td>1.000000</td>\n",
       "      <td>-0.015967</td>\n",
       "      <td>0.007456</td>\n",
       "      <td>-0.008390</td>\n",
       "      <td>0.010464</td>\n",
       "      <td>0.044550</td>\n",
       "      <td>-0.008880</td>\n",
       "      <td>0.038074</td>\n",
       "      <td>0.035701</td>\n",
       "      <td>NaN</td>\n",
       "    </tr>\n",
       "    <tr>\n",
       "      <th>StockOptionLevel</th>\n",
       "      <td>0.126257</td>\n",
       "      <td>-0.175496</td>\n",
       "      <td>0.029378</td>\n",
       "      <td>0.042585</td>\n",
       "      <td>-0.006479</td>\n",
       "      <td>0.061673</td>\n",
       "      <td>0.024867</td>\n",
       "      <td>0.012281</td>\n",
       "      <td>0.069008</td>\n",
       "      <td>0.025835</td>\n",
       "      <td>-0.015967</td>\n",
       "      <td>1.000000</td>\n",
       "      <td>0.042878</td>\n",
       "      <td>0.015991</td>\n",
       "      <td>0.016860</td>\n",
       "      <td>0.057380</td>\n",
       "      <td>-0.011862</td>\n",
       "      <td>0.018579</td>\n",
       "      <td>-0.014120</td>\n",
       "      <td>NaN</td>\n",
       "    </tr>\n",
       "    <tr>\n",
       "      <th>TotalWorkingYears</th>\n",
       "      <td>0.675578</td>\n",
       "      <td>-0.262922</td>\n",
       "      <td>0.029289</td>\n",
       "      <td>0.175662</td>\n",
       "      <td>-0.019005</td>\n",
       "      <td>0.037145</td>\n",
       "      <td>0.012892</td>\n",
       "      <td>0.759658</td>\n",
       "      <td>0.226706</td>\n",
       "      <td>0.006266</td>\n",
       "      <td>0.007456</td>\n",
       "      <td>0.042878</td>\n",
       "      <td>1.000000</td>\n",
       "      <td>-0.018783</td>\n",
       "      <td>0.667632</td>\n",
       "      <td>0.504922</td>\n",
       "      <td>0.395785</td>\n",
       "      <td>0.515849</td>\n",
       "      <td>-0.010829</td>\n",
       "      <td>NaN</td>\n",
       "    </tr>\n",
       "    <tr>\n",
       "      <th>TrainingTimesLastYear</th>\n",
       "      <td>0.004789</td>\n",
       "      <td>-0.105663</td>\n",
       "      <td>-0.032038</td>\n",
       "      <td>-0.043272</td>\n",
       "      <td>0.020531</td>\n",
       "      <td>-0.027122</td>\n",
       "      <td>-0.012757</td>\n",
       "      <td>-0.020173</td>\n",
       "      <td>-0.043610</td>\n",
       "      <td>0.008500</td>\n",
       "      <td>-0.008390</td>\n",
       "      <td>0.015991</td>\n",
       "      <td>-0.018783</td>\n",
       "      <td>1.000000</td>\n",
       "      <td>-0.001098</td>\n",
       "      <td>-0.008939</td>\n",
       "      <td>-0.019341</td>\n",
       "      <td>-0.015937</td>\n",
       "      <td>-0.050569</td>\n",
       "      <td>NaN</td>\n",
       "    </tr>\n",
       "    <tr>\n",
       "      <th>YearsAtCompany</th>\n",
       "      <td>0.355438</td>\n",
       "      <td>-0.230061</td>\n",
       "      <td>-0.030392</td>\n",
       "      <td>0.145911</td>\n",
       "      <td>0.000685</td>\n",
       "      <td>-0.008208</td>\n",
       "      <td>0.023714</td>\n",
       "      <td>0.536715</td>\n",
       "      <td>-0.099854</td>\n",
       "      <td>0.002299</td>\n",
       "      <td>0.010464</td>\n",
       "      <td>0.016860</td>\n",
       "      <td>0.667632</td>\n",
       "      <td>-0.001098</td>\n",
       "      <td>1.000000</td>\n",
       "      <td>0.771813</td>\n",
       "      <td>0.607823</td>\n",
       "      <td>0.803554</td>\n",
       "      <td>-0.057878</td>\n",
       "      <td>NaN</td>\n",
       "    </tr>\n",
       "    <tr>\n",
       "      <th>YearsInCurrentRole</th>\n",
       "      <td>0.266728</td>\n",
       "      <td>-0.269408</td>\n",
       "      <td>-0.010607</td>\n",
       "      <td>0.076579</td>\n",
       "      <td>0.008028</td>\n",
       "      <td>0.029460</td>\n",
       "      <td>0.036065</td>\n",
       "      <td>0.418501</td>\n",
       "      <td>-0.081803</td>\n",
       "      <td>0.029127</td>\n",
       "      <td>0.044550</td>\n",
       "      <td>0.057380</td>\n",
       "      <td>0.504922</td>\n",
       "      <td>-0.008939</td>\n",
       "      <td>0.771813</td>\n",
       "      <td>1.000000</td>\n",
       "      <td>0.568734</td>\n",
       "      <td>0.733661</td>\n",
       "      <td>-0.030441</td>\n",
       "      <td>NaN</td>\n",
       "    </tr>\n",
       "    <tr>\n",
       "      <th>YearsSinceLastPromotion</th>\n",
       "      <td>0.222113</td>\n",
       "      <td>-0.050379</td>\n",
       "      <td>0.004460</td>\n",
       "      <td>0.076430</td>\n",
       "      <td>0.014325</td>\n",
       "      <td>0.006373</td>\n",
       "      <td>0.004439</td>\n",
       "      <td>0.340080</td>\n",
       "      <td>-0.046999</td>\n",
       "      <td>-0.036528</td>\n",
       "      <td>-0.008880</td>\n",
       "      <td>-0.011862</td>\n",
       "      <td>0.395785</td>\n",
       "      <td>-0.019341</td>\n",
       "      <td>0.607823</td>\n",
       "      <td>0.568734</td>\n",
       "      <td>1.000000</td>\n",
       "      <td>0.589437</td>\n",
       "      <td>-0.036682</td>\n",
       "      <td>NaN</td>\n",
       "    </tr>\n",
       "    <tr>\n",
       "      <th>YearsWithCurrManager</th>\n",
       "      <td>0.263792</td>\n",
       "      <td>-0.222752</td>\n",
       "      <td>-0.004135</td>\n",
       "      <td>0.121981</td>\n",
       "      <td>0.002457</td>\n",
       "      <td>0.062552</td>\n",
       "      <td>-0.006131</td>\n",
       "      <td>0.401007</td>\n",
       "      <td>-0.116915</td>\n",
       "      <td>0.020399</td>\n",
       "      <td>0.038074</td>\n",
       "      <td>0.018579</td>\n",
       "      <td>0.515849</td>\n",
       "      <td>-0.015937</td>\n",
       "      <td>0.803554</td>\n",
       "      <td>0.733661</td>\n",
       "      <td>0.589437</td>\n",
       "      <td>1.000000</td>\n",
       "      <td>-0.026457</td>\n",
       "      <td>NaN</td>\n",
       "    </tr>\n",
       "    <tr>\n",
       "      <th>CommunicationSkill</th>\n",
       "      <td>0.019341</td>\n",
       "      <td>0.103379</td>\n",
       "      <td>-0.036109</td>\n",
       "      <td>0.000223</td>\n",
       "      <td>-0.011557</td>\n",
       "      <td>0.052877</td>\n",
       "      <td>-0.051464</td>\n",
       "      <td>-0.060311</td>\n",
       "      <td>0.013289</td>\n",
       "      <td>0.004156</td>\n",
       "      <td>0.035701</td>\n",
       "      <td>-0.014120</td>\n",
       "      <td>-0.010829</td>\n",
       "      <td>-0.050569</td>\n",
       "      <td>-0.057878</td>\n",
       "      <td>-0.030441</td>\n",
       "      <td>-0.036682</td>\n",
       "      <td>-0.026457</td>\n",
       "      <td>1.000000</td>\n",
       "      <td>NaN</td>\n",
       "    </tr>\n",
       "    <tr>\n",
       "      <th>Behaviour</th>\n",
       "      <td>NaN</td>\n",
       "      <td>NaN</td>\n",
       "      <td>NaN</td>\n",
       "      <td>NaN</td>\n",
       "      <td>NaN</td>\n",
       "      <td>NaN</td>\n",
       "      <td>NaN</td>\n",
       "      <td>NaN</td>\n",
       "      <td>NaN</td>\n",
       "      <td>NaN</td>\n",
       "      <td>NaN</td>\n",
       "      <td>NaN</td>\n",
       "      <td>NaN</td>\n",
       "      <td>NaN</td>\n",
       "      <td>NaN</td>\n",
       "      <td>NaN</td>\n",
       "      <td>NaN</td>\n",
       "      <td>NaN</td>\n",
       "      <td>NaN</td>\n",
       "      <td>NaN</td>\n",
       "    </tr>\n",
       "  </tbody>\n",
       "</table>\n",
       "</div>"
      ],
      "text/plain": [
       "                              Age  Attrition  DistanceFromHome  Education  \\\n",
       "Age                      1.000000  -0.200596          0.020658   0.219237   \n",
       "Attrition               -0.200596   1.000000          0.109224  -0.041390   \n",
       "DistanceFromHome         0.020658   0.109224          1.000000   0.023945   \n",
       "Education                0.219237  -0.041390          0.023945   1.000000   \n",
       "EnvironmentSatisfaction  0.001950  -0.111746         -0.046390  -0.065041   \n",
       "JobInvolvement           0.073185  -0.159710          0.016316   0.083673   \n",
       "JobSatisfaction          0.037604  -0.148012         -0.097558  -0.036143   \n",
       "MonthlyIncome            0.509210  -0.240479          0.012521   0.119907   \n",
       "NumCompaniesWorked       0.312099   0.034763         -0.048131   0.091690   \n",
       "PercentSalaryHike        0.034546  -0.012668          0.103452   0.013565   \n",
       "PerformanceRating        0.002982   0.010202          0.071457  -0.036204   \n",
       "StockOptionLevel         0.126257  -0.175496          0.029378   0.042585   \n",
       "TotalWorkingYears        0.675578  -0.262922          0.029289   0.175662   \n",
       "TrainingTimesLastYear    0.004789  -0.105663         -0.032038  -0.043272   \n",
       "YearsAtCompany           0.355438  -0.230061         -0.030392   0.145911   \n",
       "YearsInCurrentRole       0.266728  -0.269408         -0.010607   0.076579   \n",
       "YearsSinceLastPromotion  0.222113  -0.050379          0.004460   0.076430   \n",
       "YearsWithCurrManager     0.263792  -0.222752         -0.004135   0.121981   \n",
       "CommunicationSkill       0.019341   0.103379         -0.036109   0.000223   \n",
       "Behaviour                     NaN        NaN               NaN        NaN   \n",
       "\n",
       "                         EnvironmentSatisfaction  JobInvolvement  \\\n",
       "Age                                     0.001950        0.073185   \n",
       "Attrition                              -0.111746       -0.159710   \n",
       "DistanceFromHome                       -0.046390        0.016316   \n",
       "Education                              -0.065041        0.083673   \n",
       "EnvironmentSatisfaction                 1.000000       -0.000977   \n",
       "JobInvolvement                         -0.000977        1.000000   \n",
       "JobSatisfaction                         0.035033       -0.005453   \n",
       "MonthlyIncome                          -0.033990        0.005859   \n",
       "NumCompaniesWorked                     -0.051681        0.012240   \n",
       "PercentSalaryHike                      -0.032655       -0.042988   \n",
       "PerformanceRating                      -0.041427       -0.063512   \n",
       "StockOptionLevel                       -0.006479        0.061673   \n",
       "TotalWorkingYears                      -0.019005        0.037145   \n",
       "TrainingTimesLastYear                   0.020531       -0.027122   \n",
       "YearsAtCompany                          0.000685       -0.008208   \n",
       "YearsInCurrentRole                      0.008028        0.029460   \n",
       "YearsSinceLastPromotion                 0.014325        0.006373   \n",
       "YearsWithCurrManager                    0.002457        0.062552   \n",
       "CommunicationSkill                     -0.011557        0.052877   \n",
       "Behaviour                                    NaN             NaN   \n",
       "\n",
       "                         JobSatisfaction  MonthlyIncome  NumCompaniesWorked  \\\n",
       "Age                             0.037604       0.509210            0.312099   \n",
       "Attrition                      -0.148012      -0.240479            0.034763   \n",
       "DistanceFromHome               -0.097558       0.012521           -0.048131   \n",
       "Education                      -0.036143       0.119907            0.091690   \n",
       "EnvironmentSatisfaction         0.035033      -0.033990           -0.051681   \n",
       "JobInvolvement                 -0.005453       0.005859            0.012240   \n",
       "JobSatisfaction                 1.000000       0.003255           -0.032738   \n",
       "MonthlyIncome                   0.003255       1.000000            0.169025   \n",
       "NumCompaniesWorked             -0.032738       0.169025            1.000000   \n",
       "PercentSalaryHike              -0.077425      -0.017738            0.015858   \n",
       "PerformanceRating              -0.078554      -0.037533           -0.015765   \n",
       "StockOptionLevel                0.024867       0.012281            0.069008   \n",
       "TotalWorkingYears               0.012892       0.759658            0.226706   \n",
       "TrainingTimesLastYear          -0.012757      -0.020173           -0.043610   \n",
       "YearsAtCompany                  0.023714       0.536715           -0.099854   \n",
       "YearsInCurrentRole              0.036065       0.418501           -0.081803   \n",
       "YearsSinceLastPromotion         0.004439       0.340080           -0.046999   \n",
       "YearsWithCurrManager           -0.006131       0.401007           -0.116915   \n",
       "CommunicationSkill             -0.051464      -0.060311            0.013289   \n",
       "Behaviour                            NaN            NaN                 NaN   \n",
       "\n",
       "                         PercentSalaryHike  PerformanceRating  \\\n",
       "Age                               0.034546           0.002982   \n",
       "Attrition                        -0.012668           0.010202   \n",
       "DistanceFromHome                  0.103452           0.071457   \n",
       "Education                         0.013565          -0.036204   \n",
       "EnvironmentSatisfaction          -0.032655          -0.041427   \n",
       "JobInvolvement                   -0.042988          -0.063512   \n",
       "JobSatisfaction                  -0.077425          -0.078554   \n",
       "MonthlyIncome                    -0.017738          -0.037533   \n",
       "NumCompaniesWorked                0.015858          -0.015765   \n",
       "PercentSalaryHike                 1.000000           0.785024   \n",
       "PerformanceRating                 0.785024           1.000000   \n",
       "StockOptionLevel                  0.025835          -0.015967   \n",
       "TotalWorkingYears                 0.006266           0.007456   \n",
       "TrainingTimesLastYear             0.008500          -0.008390   \n",
       "YearsAtCompany                    0.002299           0.010464   \n",
       "YearsInCurrentRole                0.029127           0.044550   \n",
       "YearsSinceLastPromotion          -0.036528          -0.008880   \n",
       "YearsWithCurrManager              0.020399           0.038074   \n",
       "CommunicationSkill                0.004156           0.035701   \n",
       "Behaviour                              NaN                NaN   \n",
       "\n",
       "                         StockOptionLevel  TotalWorkingYears  \\\n",
       "Age                              0.126257           0.675578   \n",
       "Attrition                       -0.175496          -0.262922   \n",
       "DistanceFromHome                 0.029378           0.029289   \n",
       "Education                        0.042585           0.175662   \n",
       "EnvironmentSatisfaction         -0.006479          -0.019005   \n",
       "JobInvolvement                   0.061673           0.037145   \n",
       "JobSatisfaction                  0.024867           0.012892   \n",
       "MonthlyIncome                    0.012281           0.759658   \n",
       "NumCompaniesWorked               0.069008           0.226706   \n",
       "PercentSalaryHike                0.025835           0.006266   \n",
       "PerformanceRating               -0.015967           0.007456   \n",
       "StockOptionLevel                 1.000000           0.042878   \n",
       "TotalWorkingYears                0.042878           1.000000   \n",
       "TrainingTimesLastYear            0.015991          -0.018783   \n",
       "YearsAtCompany                   0.016860           0.667632   \n",
       "YearsInCurrentRole               0.057380           0.504922   \n",
       "YearsSinceLastPromotion         -0.011862           0.395785   \n",
       "YearsWithCurrManager             0.018579           0.515849   \n",
       "CommunicationSkill              -0.014120          -0.010829   \n",
       "Behaviour                             NaN                NaN   \n",
       "\n",
       "                         TrainingTimesLastYear  YearsAtCompany  \\\n",
       "Age                                   0.004789        0.355438   \n",
       "Attrition                            -0.105663       -0.230061   \n",
       "DistanceFromHome                     -0.032038       -0.030392   \n",
       "Education                            -0.043272        0.145911   \n",
       "EnvironmentSatisfaction               0.020531        0.000685   \n",
       "JobInvolvement                       -0.027122       -0.008208   \n",
       "JobSatisfaction                      -0.012757        0.023714   \n",
       "MonthlyIncome                        -0.020173        0.536715   \n",
       "NumCompaniesWorked                   -0.043610       -0.099854   \n",
       "PercentSalaryHike                     0.008500        0.002299   \n",
       "PerformanceRating                    -0.008390        0.010464   \n",
       "StockOptionLevel                      0.015991        0.016860   \n",
       "TotalWorkingYears                    -0.018783        0.667632   \n",
       "TrainingTimesLastYear                 1.000000       -0.001098   \n",
       "YearsAtCompany                       -0.001098        1.000000   \n",
       "YearsInCurrentRole                   -0.008939        0.771813   \n",
       "YearsSinceLastPromotion              -0.019341        0.607823   \n",
       "YearsWithCurrManager                 -0.015937        0.803554   \n",
       "CommunicationSkill                   -0.050569       -0.057878   \n",
       "Behaviour                                  NaN             NaN   \n",
       "\n",
       "                         YearsInCurrentRole  YearsSinceLastPromotion  \\\n",
       "Age                                0.266728                 0.222113   \n",
       "Attrition                         -0.269408                -0.050379   \n",
       "DistanceFromHome                  -0.010607                 0.004460   \n",
       "Education                          0.076579                 0.076430   \n",
       "EnvironmentSatisfaction            0.008028                 0.014325   \n",
       "JobInvolvement                     0.029460                 0.006373   \n",
       "JobSatisfaction                    0.036065                 0.004439   \n",
       "MonthlyIncome                      0.418501                 0.340080   \n",
       "NumCompaniesWorked                -0.081803                -0.046999   \n",
       "PercentSalaryHike                  0.029127                -0.036528   \n",
       "PerformanceRating                  0.044550                -0.008880   \n",
       "StockOptionLevel                   0.057380                -0.011862   \n",
       "TotalWorkingYears                  0.504922                 0.395785   \n",
       "TrainingTimesLastYear             -0.008939                -0.019341   \n",
       "YearsAtCompany                     0.771813                 0.607823   \n",
       "YearsInCurrentRole                 1.000000                 0.568734   \n",
       "YearsSinceLastPromotion            0.568734                 1.000000   \n",
       "YearsWithCurrManager               0.733661                 0.589437   \n",
       "CommunicationSkill                -0.030441                -0.036682   \n",
       "Behaviour                               NaN                      NaN   \n",
       "\n",
       "                         YearsWithCurrManager  CommunicationSkill  Behaviour  \n",
       "Age                                  0.263792            0.019341        NaN  \n",
       "Attrition                           -0.222752            0.103379        NaN  \n",
       "DistanceFromHome                    -0.004135           -0.036109        NaN  \n",
       "Education                            0.121981            0.000223        NaN  \n",
       "EnvironmentSatisfaction              0.002457           -0.011557        NaN  \n",
       "JobInvolvement                       0.062552            0.052877        NaN  \n",
       "JobSatisfaction                     -0.006131           -0.051464        NaN  \n",
       "MonthlyIncome                        0.401007           -0.060311        NaN  \n",
       "NumCompaniesWorked                  -0.116915            0.013289        NaN  \n",
       "PercentSalaryHike                    0.020399            0.004156        NaN  \n",
       "PerformanceRating                    0.038074            0.035701        NaN  \n",
       "StockOptionLevel                     0.018579           -0.014120        NaN  \n",
       "TotalWorkingYears                    0.515849           -0.010829        NaN  \n",
       "TrainingTimesLastYear               -0.015937           -0.050569        NaN  \n",
       "YearsAtCompany                       0.803554           -0.057878        NaN  \n",
       "YearsInCurrentRole                   0.733661           -0.030441        NaN  \n",
       "YearsSinceLastPromotion              0.589437           -0.036682        NaN  \n",
       "YearsWithCurrManager                 1.000000           -0.026457        NaN  \n",
       "CommunicationSkill                  -0.026457            1.000000        NaN  \n",
       "Behaviour                                 NaN                 NaN        NaN  "
      ]
     },
     "execution_count": 10,
     "metadata": {},
     "output_type": "execute_result"
    }
   ],
   "source": [
    "df_train.corr()"
   ]
  },
  {
   "cell_type": "code",
   "execution_count": 11,
   "metadata": {},
   "outputs": [],
   "source": [
    "X_train, X_valid, y_train, y_valid = train_test_split(df_train.drop('Attrition',axis=1), df_train.Attrition, test_size=0.30, random_state=42)"
   ]
  },
  {
   "cell_type": "code",
   "execution_count": 12,
   "metadata": {},
   "outputs": [
    {
     "data": {
      "text/plain": [
       "((1139, 26), (489, 26), (1139,), (489,), (470, 26))"
      ]
     },
     "execution_count": 12,
     "metadata": {},
     "output_type": "execute_result"
    }
   ],
   "source": [
    "X_train.shape,X_valid.shape,y_train.shape,y_valid.shape,X_test.shape"
   ]
  },
  {
   "cell_type": "code",
   "execution_count": 11,
   "metadata": {},
   "outputs": [
    {
     "name": "stdout",
     "output_type": "stream",
     "text": [
      "<class 'pandas.core.frame.DataFrame'>\n",
      "Int64Index: 1139 entries, 1273 to 1127\n",
      "Data columns (total 26 columns):\n",
      " #   Column                   Non-Null Count  Dtype \n",
      "---  ------                   --------------  ----- \n",
      " 0   Age                      1139 non-null   int64 \n",
      " 1   BusinessTravel           1139 non-null   object\n",
      " 2   Department               1139 non-null   object\n",
      " 3   DistanceFromHome         1139 non-null   int64 \n",
      " 4   Education                1139 non-null   int64 \n",
      " 5   EducationField           1139 non-null   object\n",
      " 6   EnvironmentSatisfaction  1139 non-null   int64 \n",
      " 7   Gender                   1139 non-null   object\n",
      " 8   JobInvolvement           1139 non-null   int64 \n",
      " 9   JobRole                  1139 non-null   object\n",
      " 10  JobSatisfaction          1139 non-null   int64 \n",
      " 11  MaritalStatus            1139 non-null   object\n",
      " 12  MonthlyIncome            1139 non-null   int64 \n",
      " 13  NumCompaniesWorked       1139 non-null   int64 \n",
      " 14  OverTime                 1139 non-null   object\n",
      " 15  PercentSalaryHike        1139 non-null   int64 \n",
      " 16  PerformanceRating        1139 non-null   int64 \n",
      " 17  StockOptionLevel         1139 non-null   int64 \n",
      " 18  TotalWorkingYears        1139 non-null   int64 \n",
      " 19  TrainingTimesLastYear    1139 non-null   int64 \n",
      " 20  YearsAtCompany           1139 non-null   int64 \n",
      " 21  YearsInCurrentRole       1139 non-null   int64 \n",
      " 22  YearsSinceLastPromotion  1139 non-null   int64 \n",
      " 23  YearsWithCurrManager     1139 non-null   int64 \n",
      " 24  CommunicationSkill       1139 non-null   int64 \n",
      " 25  Behaviour                1139 non-null   int64 \n",
      "dtypes: int64(19), object(7)\n",
      "memory usage: 240.3+ KB\n"
     ]
    }
   ],
   "source": [
    "X_train.info()"
   ]
  },
  {
   "cell_type": "code",
   "execution_count": 19,
   "metadata": {
    "scrolled": true
   },
   "outputs": [
    {
     "data": {
      "text/plain": [
       "(array([0.07371007, 0.        , 0.        , 0.        , 0.        ,\n",
       "        0.67874693, 0.        , 0.        , 0.        , 0.247543  ]),\n",
       " array([0. , 0.2, 0.4, 0.6, 0.8, 1. , 1.2, 1.4, 1.6, 1.8, 2. ]),\n",
       " <a list of 10 Patch objects>)"
      ]
     },
     "execution_count": 19,
     "metadata": {},
     "output_type": "execute_result"
    },
    {
     "data": {
      "image/png": "[encoded data removed]",
      "text/plain": [
       "<Figure size 432x288 with 1 Axes>"
      ]
     },
     "metadata": {},
     "output_type": "display_data"
    }
   ],
   "source": [
    "plt.hist(df_train.BusinessTravel,weights=np.zeros_like(df_train.BusinessTravel) + 1. / df_train.BusinessTravel.size)"
   ]
  },
  {
   "cell_type": "code",
   "execution_count": null,
   "metadata": {},
   "outputs": [],
   "source": [
    "a=pd.get_dummies(X_train)"
   ]
  },
  {
   "cell_type": "code",
   "execution_count": 22,
   "metadata": {},
   "outputs": [
    {
     "ename": "AttributeError",
     "evalue": "module 'pandas' has no attribute 'cols'",
     "output_type": "error",
     "traceback": [
      "\u001b[1;31m---------------------------------------------------------------------------\u001b[0m",
      "\u001b[1;31mAttributeError\u001b[0m                            Traceback (most recent call last)",
      "\u001b[1;32m<ipython-input-22-d381f86ad07d>\u001b[0m in \u001b[0;36m<module>\u001b[1;34m\u001b[0m\n\u001b[1;32m----> 1\u001b[1;33m \u001b[0mpd\u001b[0m\u001b[1;33m.\u001b[0m\u001b[0mcols\u001b[0m\u001b[1;33m\u001b[0m\u001b[1;33m\u001b[0m\u001b[0m\n\u001b[0m",
      "\u001b[1;32m~\\Anaconda3\\lib\\site-packages\\pandas\\__init__.py\u001b[0m in \u001b[0;36m__getattr__\u001b[1;34m(name)\u001b[0m\n\u001b[0;32m    261\u001b[0m             \u001b[1;32mreturn\u001b[0m \u001b[0m_SparseArray\u001b[0m\u001b[1;33m\u001b[0m\u001b[1;33m\u001b[0m\u001b[0m\n\u001b[0;32m    262\u001b[0m \u001b[1;33m\u001b[0m\u001b[0m\n\u001b[1;32m--> 263\u001b[1;33m         \u001b[1;32mraise\u001b[0m \u001b[0mAttributeError\u001b[0m\u001b[1;33m(\u001b[0m\u001b[1;34mf\"module 'pandas' has no attribute '{name}'\"\u001b[0m\u001b[1;33m)\u001b[0m\u001b[1;33m\u001b[0m\u001b[1;33m\u001b[0m\u001b[0m\n\u001b[0m\u001b[0;32m    264\u001b[0m \u001b[1;33m\u001b[0m\u001b[0m\n\u001b[0;32m    265\u001b[0m \u001b[1;33m\u001b[0m\u001b[0m\n",
      "\u001b[1;31mAttributeError\u001b[0m: module 'pandas' has no attribute 'cols'"
     ]
    }
   ],
   "source": []
  },
  {
   "cell_type": "code",
   "execution_count": 12,
   "metadata": {},
   "outputs": [],
   "source": [
    "obj_col=X_train.select_dtypes(exclude='int64').columns.to_list()"
   ]
  },
  {
   "cell_type": "code",
   "execution_count": 13,
   "metadata": {},
   "outputs": [],
   "source": [
    "num_col=X_train.select_dtypes(exclude='object').columns.to_list()"
   ]
  },
  {
   "cell_type": "code",
   "execution_count": null,
   "metadata": {},
   "outputs": [],
   "source": []
  },
  {
   "cell_type": "code",
   "execution_count": 458,
   "metadata": {},
   "outputs": [],
   "source": [
    "num_col1=[x for x in num_col if X_train[x].nunique()<=10]"
   ]
  },
  {
   "cell_type": "code",
   "execution_count": 459,
   "metadata": {},
   "outputs": [],
   "source": [
    "num_col2=[x for x in num_col if X_train[x].nunique()>10]"
   ]
  },
  {
   "cell_type": "code",
   "execution_count": 460,
   "metadata": {},
   "outputs": [],
   "source": [
    "num_col1.remove('Behaviour')"
   ]
  },
  {
   "cell_type": "code",
   "execution_count": 461,
   "metadata": {},
   "outputs": [
    {
     "data": {
      "text/plain": [
       "25"
      ]
     },
     "execution_count": 461,
     "metadata": {},
     "output_type": "execute_result"
    }
   ],
   "source": [
    "len(num_col2)+len(num_col1)+len(obj_col)"
   ]
  },
  {
   "cell_type": "code",
   "execution_count": 462,
   "metadata": {},
   "outputs": [
    {
     "data": {
      "text/plain": [
       "Index(['Age', 'BusinessTravel', 'Department', 'DistanceFromHome', 'Education',\n",
       "       'EducationField', 'EnvironmentSatisfaction', 'Gender', 'JobInvolvement',\n",
       "       'JobRole', 'JobSatisfaction', 'MaritalStatus', 'MonthlyIncome',\n",
       "       'NumCompaniesWorked', 'OverTime', 'PercentSalaryHike',\n",
       "       'PerformanceRating', 'StockOptionLevel', 'TotalWorkingYears',\n",
       "       'TrainingTimesLastYear', 'YearsAtCompany', 'YearsInCurrentRole',\n",
       "       'YearsSinceLastPromotion', 'YearsWithCurrManager', 'CommunicationSkill',\n",
       "       'Behaviour'],\n",
       "      dtype='object')"
      ]
     },
     "execution_count": 462,
     "metadata": {},
     "output_type": "execute_result"
    }
   ],
   "source": [
    "X_train.columns"
   ]
  },
  {
   "cell_type": "code",
   "execution_count": 463,
   "metadata": {},
   "outputs": [],
   "source": [
    "X_train.Gender=pd.get_dummies(X_train.Gender,drop_first=True)\n",
    "X_valid.Gender=pd.get_dummies(X_valid.Gender,drop_first=True)\n",
    "X_test.Gender=pd.get_dummies(X_test.Gender,drop_first=True)"
   ]
  },
  {
   "cell_type": "code",
   "execution_count": 464,
   "metadata": {},
   "outputs": [],
   "source": [
    "X_train[['single','divorced']]=pd.get_dummies(X_train.MaritalStatus,drop_first=True)\n",
    "X_valid[['single','divorced']]=pd.get_dummies(X_valid.MaritalStatus,drop_first=True)\n",
    "X_test[['single','divorced']]=pd.get_dummies(X_test.MaritalStatus,drop_first=True)"
   ]
  },
  {
   "cell_type": "code",
   "execution_count": 465,
   "metadata": {},
   "outputs": [],
   "source": [
    "X_train.drop('MaritalStatus',axis=1,inplace=True)\n",
    "X_valid.drop('MaritalStatus',axis=1,inplace=True)\n",
    "X_test.drop('MaritalStatus',axis=1,inplace=True)\n"
   ]
  },
  {
   "cell_type": "code",
   "execution_count": 466,
   "metadata": {},
   "outputs": [],
   "source": [
    "\n",
    "obj_col.remove('MaritalStatus')"
   ]
  },
  {
   "cell_type": "code",
   "execution_count": 467,
   "metadata": {},
   "outputs": [],
   "source": [
    "X_train.OverTime=pd.get_dummies(X_train.OverTime,drop_first=True)\n",
    "X_valid.OverTime=pd.get_dummies(X_valid.OverTime,drop_first=True)\n",
    "X_test.OverTime=pd.get_dummies(X_test.OverTime,drop_first=True)"
   ]
  },
  {
   "cell_type": "code",
   "execution_count": 468,
   "metadata": {},
   "outputs": [
    {
     "name": "stdout",
     "output_type": "stream",
     "text": [
      "<class 'pandas.core.frame.DataFrame'>\n",
      "Int64Index: 1139 entries, 1273 to 1127\n",
      "Data columns (total 6 columns):\n",
      " #   Column          Non-Null Count  Dtype \n",
      "---  ------          --------------  ----- \n",
      " 0   BusinessTravel  1139 non-null   object\n",
      " 1   Department      1139 non-null   object\n",
      " 2   EducationField  1139 non-null   object\n",
      " 3   Gender          1139 non-null   uint8 \n",
      " 4   JobRole         1139 non-null   object\n",
      " 5   OverTime        1139 non-null   uint8 \n",
      "dtypes: object(4), uint8(2)\n",
      "memory usage: 46.7+ KB\n"
     ]
    }
   ],
   "source": [
    "X_train[obj_col].info()"
   ]
  },
  {
   "cell_type": "code",
   "execution_count": 469,
   "metadata": {},
   "outputs": [],
   "source": [
    "convert=X_train[obj_col].select_dtypes(exclude='uint8').columns.to_list()"
   ]
  },
  {
   "cell_type": "code",
   "execution_count": 470,
   "metadata": {},
   "outputs": [
    {
     "data": {
      "text/plain": [
       "['BusinessTravel', 'Department', 'EducationField', 'JobRole']"
      ]
     },
     "execution_count": 470,
     "metadata": {},
     "output_type": "execute_result"
    }
   ],
   "source": [
    "convert"
   ]
  },
  {
   "cell_type": "code",
   "execution_count": 471,
   "metadata": {},
   "outputs": [
    {
     "data": {
      "text/plain": [
       "Sales Executive              256\n",
       "Research Scientist           247\n",
       "Laboratory Technician        217\n",
       "Sales Representative         121\n",
       "Manufacturing Director        90\n",
       "Healthcare Representative     70\n",
       "Human Resources               55\n",
       "Manager                       54\n",
       "Research Director             29\n",
       "Name: JobRole, dtype: int64"
      ]
     },
     "execution_count": 471,
     "metadata": {},
     "output_type": "execute_result"
    }
   ],
   "source": [
    "X_train.JobRole.value_counts()"
   ]
  },
  {
   "cell_type": "code",
   "execution_count": 472,
   "metadata": {},
   "outputs": [
    {
     "data": {
      "text/plain": [
       "<matplotlib.axes._subplots.AxesSubplot at 0x262101b9048>"
      ]
     },
     "execution_count": 472,
     "metadata": {},
     "output_type": "execute_result"
    },
    {
     "data": {
      "image/png": "[encoded data removed]",
      "text/plain": [
       "<Figure size 432x288 with 2 Axes>"
      ]
     },
     "metadata": {},
     "output_type": "display_data"
    }
   ],
   "source": [
    "sns.heatmap(X_valid.isnull())"
   ]
  },
  {
   "cell_type": "code",
   "execution_count": 473,
   "metadata": {},
   "outputs": [],
   "source": [
    "a=pd.concat([X_train[convert],y_train],axis=1)"
   ]
  },
  {
   "cell_type": "code",
   "execution_count": 474,
   "metadata": {},
   "outputs": [
    {
     "data": {
      "text/plain": [
       "['BusinessTravel', 'Department', 'EducationField', 'JobRole']"
      ]
     },
     "execution_count": 474,
     "metadata": {},
     "output_type": "execute_result"
    }
   ],
   "source": [
    "convert"
   ]
  },
  {
   "cell_type": "code",
   "execution_count": 475,
   "metadata": {},
   "outputs": [],
   "source": [
    "for i in convert:\n",
    "    l=pd.concat([X_train,y_train],axis=1).groupby([i])['Attrition'].mean().sort_values().index.to_list()\n",
    "    ma={k:i for i,k in enumerate(l,0)}\n",
    "    X_train[i]=X_train[i].map(ma)\n",
    "    \n",
    "for j in convert:\n",
    "    li=a.groupby([j])['Attrition'].mean().sort_values().index.to_list()\n",
    "    mape={k:i for i,k in enumerate(li,0)}\n",
    "    X_valid[j]=X_valid[j].map(mape)\n",
    "    \n",
    "for k in convert:\n",
    "    lis=a.groupby([k])['Attrition'].mean().sort_values().index.to_list()\n",
    "    maped={k:i for i,k in enumerate(lis,0)}\n",
    "    X_test[k]=X_test[k].map(maped)"
   ]
  },
  {
   "cell_type": "code",
   "execution_count": null,
   "metadata": {},
   "outputs": [],
   "source": []
  },
  {
   "cell_type": "code",
   "execution_count": 476,
   "metadata": {},
   "outputs": [],
   "source": [
    "#X_train.drop('Behaviour',axis=1,inplace=True)\n",
    "#X_valid.drop('Behaviour',axis=1,inplace=True)\n",
    "#X_test.drop('Behaviour',axis=1,inplace=True)\n",
    "\n",
    "\n",
    "\n",
    "\n",
    "\n",
    "\n",
    "\n",
    "\n",
    "\n"
   ]
  },
  {
   "cell_type": "code",
   "execution_count": 477,
   "metadata": {},
   "outputs": [
    {
     "data": {
      "text/html": [
       "<div>\n",
       "<style scoped>\n",
       "    .dataframe tbody tr th:only-of-type {\n",
       "        vertical-align: middle;\n",
       "    }\n",
       "\n",
       "    .dataframe tbody tr th {\n",
       "        vertical-align: top;\n",
       "    }\n",
       "\n",
       "    .dataframe thead th {\n",
       "        text-align: right;\n",
       "    }\n",
       "</style>\n",
       "<table border=\"1\" class=\"dataframe\">\n",
       "  <thead>\n",
       "    <tr style=\"text-align: right;\">\n",
       "      <th></th>\n",
       "      <th>0</th>\n",
       "    </tr>\n",
       "  </thead>\n",
       "  <tbody>\n",
       "    <tr>\n",
       "      <th>MonthlyIncome</th>\n",
       "      <td>224661.225427</td>\n",
       "    </tr>\n",
       "    <tr>\n",
       "      <th>TotalWorkingYears</th>\n",
       "      <td>425.467462</td>\n",
       "    </tr>\n",
       "    <tr>\n",
       "      <th>YearsAtCompany</th>\n",
       "      <td>387.395274</td>\n",
       "    </tr>\n",
       "    <tr>\n",
       "      <th>YearsInCurrentRole</th>\n",
       "      <td>282.231118</td>\n",
       "    </tr>\n",
       "    <tr>\n",
       "      <th>YearsWithCurrManager</th>\n",
       "      <td>236.325638</td>\n",
       "    </tr>\n",
       "    <tr>\n",
       "      <th>JobRole</th>\n",
       "      <td>112.477297</td>\n",
       "    </tr>\n",
       "    <tr>\n",
       "      <th>Age</th>\n",
       "      <td>103.585191</td>\n",
       "    </tr>\n",
       "    <tr>\n",
       "      <th>DistanceFromHome</th>\n",
       "      <td>95.813124</td>\n",
       "    </tr>\n",
       "    <tr>\n",
       "      <th>OverTime</th>\n",
       "      <td>79.571984</td>\n",
       "    </tr>\n",
       "    <tr>\n",
       "      <th>StockOptionLevel</th>\n",
       "      <td>34.828734</td>\n",
       "    </tr>\n",
       "    <tr>\n",
       "      <th>divorced</th>\n",
       "      <td>31.991660</td>\n",
       "    </tr>\n",
       "    <tr>\n",
       "      <th>Department</th>\n",
       "      <td>29.775346</td>\n",
       "    </tr>\n",
       "    <tr>\n",
       "      <th>YearsSinceLastPromotion</th>\n",
       "      <td>20.898495</td>\n",
       "    </tr>\n",
       "    <tr>\n",
       "      <th>single</th>\n",
       "      <td>19.007109</td>\n",
       "    </tr>\n",
       "    <tr>\n",
       "      <th>EducationField</th>\n",
       "      <td>18.323585</td>\n",
       "    </tr>\n",
       "    <tr>\n",
       "      <th>BusinessTravel</th>\n",
       "      <td>12.308912</td>\n",
       "    </tr>\n",
       "    <tr>\n",
       "      <th>CommunicationSkill</th>\n",
       "      <td>10.864553</td>\n",
       "    </tr>\n",
       "    <tr>\n",
       "      <th>JobSatisfaction</th>\n",
       "      <td>7.611119</td>\n",
       "    </tr>\n",
       "    <tr>\n",
       "      <th>EnvironmentSatisfaction</th>\n",
       "      <td>5.475125</td>\n",
       "    </tr>\n",
       "    <tr>\n",
       "      <th>TrainingTimesLastYear</th>\n",
       "      <td>4.984888</td>\n",
       "    </tr>\n",
       "  </tbody>\n",
       "</table>\n",
       "</div>"
      ],
      "text/plain": [
       "                                     0\n",
       "MonthlyIncome            224661.225427\n",
       "TotalWorkingYears           425.467462\n",
       "YearsAtCompany              387.395274\n",
       "YearsInCurrentRole          282.231118\n",
       "YearsWithCurrManager        236.325638\n",
       "JobRole                     112.477297\n",
       "Age                         103.585191\n",
       "DistanceFromHome             95.813124\n",
       "OverTime                     79.571984\n",
       "StockOptionLevel             34.828734\n",
       "divorced                     31.991660\n",
       "Department                   29.775346\n",
       "YearsSinceLastPromotion      20.898495\n",
       "single                       19.007109\n",
       "EducationField               18.323585\n",
       "BusinessTravel               12.308912\n",
       "CommunicationSkill           10.864553\n",
       "JobSatisfaction               7.611119\n",
       "EnvironmentSatisfaction       5.475125\n",
       "TrainingTimesLastYear         4.984888"
      ]
     },
     "execution_count": 477,
     "metadata": {},
     "output_type": "execute_result"
    }
   ],
   "source": [
    "fe=SelectKBest(score_func=chi2,k=20)\n",
    "fer=fe.fit(X_train.select_dtypes(exclude='object'),y_train)\n",
    "fratures=pd.DataFrame(data=fer.scores_ ,index=X_train.columns)\n",
    "fratures.nlargest(20,0)"
   ]
  },
  {
   "cell_type": "code",
   "execution_count": null,
   "metadata": {},
   "outputs": [],
   "source": []
  },
  {
   "cell_type": "code",
   "execution_count": 478,
   "metadata": {},
   "outputs": [],
   "source": [
    "num_col2.remove('MonthlyIncome')"
   ]
  },
  {
   "cell_type": "code",
   "execution_count": 479,
   "metadata": {},
   "outputs": [
    {
     "data": {
      "text/plain": [
       "['Age',\n",
       " 'DistanceFromHome',\n",
       " 'PercentSalaryHike',\n",
       " 'TotalWorkingYears',\n",
       " 'YearsAtCompany',\n",
       " 'YearsInCurrentRole',\n",
       " 'YearsSinceLastPromotion',\n",
       " 'YearsWithCurrManager']"
      ]
     },
     "execution_count": 479,
     "metadata": {},
     "output_type": "execute_result"
    }
   ],
   "source": [
    "num_col2"
   ]
  },
  {
   "cell_type": "code",
   "execution_count": 480,
   "metadata": {},
   "outputs": [],
   "source": [
    "X_test.TotalWorkingYears.fillna(np.mean(X_test.TotalWorkingYears),inplace=True)"
   ]
  },
  {
   "cell_type": "code",
   "execution_count": null,
   "metadata": {},
   "outputs": [],
   "source": []
  },
  {
   "cell_type": "code",
   "execution_count": null,
   "metadata": {},
   "outputs": [],
   "source": []
  },
  {
   "cell_type": "code",
   "execution_count": 481,
   "metadata": {},
   "outputs": [],
   "source": [
    "b=pd.concat([X_train[num_col2],y_train],axis=1)"
   ]
  },
  {
   "cell_type": "code",
   "execution_count": 482,
   "metadata": {},
   "outputs": [],
   "source": [
    "for i in num_col2:\n",
    "    q=b.groupby([i])['Attrition'].mean().to_dict()\n",
    "    X_train[i]=X_train[i].map(q)"
   ]
  },
  {
   "cell_type": "code",
   "execution_count": 483,
   "metadata": {},
   "outputs": [],
   "source": [
    "for j in num_col2:\n",
    "    r={}\n",
    "    r=b.groupby([j])['Attrition'].mean().to_dict()\n",
    "    X_valid[j]=X_valid[j].map(r)\n"
   ]
  },
  {
   "cell_type": "code",
   "execution_count": 484,
   "metadata": {},
   "outputs": [],
   "source": [
    "for k in num_col2:\n",
    "    l={}\n",
    "    l=b.groupby([k])['Attrition'].mean().to_dict()\n",
    "    X_test[k]=X_test[k].map(l)\n"
   ]
  },
  {
   "cell_type": "code",
   "execution_count": 485,
   "metadata": {},
   "outputs": [],
   "source": [
    "X_test.YearsWithCurrManager.fillna(np.mean(X_test.YearsWithCurrManager),inplace=True)"
   ]
  },
  {
   "cell_type": "code",
   "execution_count": 486,
   "metadata": {},
   "outputs": [],
   "source": [
    "X_test.YearsAtCompany.fillna(np.mean(X_test.YearsAtCompany),inplace=True)"
   ]
  },
  {
   "cell_type": "code",
   "execution_count": null,
   "metadata": {},
   "outputs": [],
   "source": []
  },
  {
   "cell_type": "code",
   "execution_count": 487,
   "metadata": {},
   "outputs": [
    {
     "data": {
      "text/plain": [
       "<matplotlib.axes._subplots.AxesSubplot at 0x2621032ab48>"
      ]
     },
     "execution_count": 487,
     "metadata": {},
     "output_type": "execute_result"
    },
    {
     "data": {
      "image/png": "[encoded data removed]",
      "text/plain": [
       "<Figure size 432x288 with 2 Axes>"
      ]
     },
     "metadata": {},
     "output_type": "display_data"
    }
   ],
   "source": [
    "sns.heatmap(X_test.isnull())"
   ]
  },
  {
   "cell_type": "code",
   "execution_count": null,
   "metadata": {},
   "outputs": [],
   "source": []
  },
  {
   "cell_type": "code",
   "execution_count": 488,
   "metadata": {},
   "outputs": [],
   "source": [
    "X_valid.YearsAtCompany.fillna(np.mean(X_valid.YearsAtCompany),inplace=True)\n",
    "X_valid.YearsWithCurrManager.fillna(np.mean(X_valid.YearsWithCurrManager),inplace=True)"
   ]
  },
  {
   "cell_type": "code",
   "execution_count": 489,
   "metadata": {},
   "outputs": [
    {
     "data": {
      "text/plain": [
       "((1139, 27), (489, 27), (1139,), (489,), (470, 27))"
      ]
     },
     "execution_count": 489,
     "metadata": {},
     "output_type": "execute_result"
    }
   ],
   "source": [
    "X_train.shape,X_valid.shape,y_train.shape,y_valid.shape,X_test.shape"
   ]
  },
  {
   "cell_type": "code",
   "execution_count": 490,
   "metadata": {},
   "outputs": [],
   "source": [
    "X_train.drop('PercentSalaryHike',axis=1,inplace=True)\n",
    "X_valid.drop('PercentSalaryHike',axis=1,inplace=True)\n",
    "X_test.drop('PercentSalaryHike',axis=1,inplace=True)"
   ]
  },
  {
   "cell_type": "code",
   "execution_count": null,
   "metadata": {},
   "outputs": [],
   "source": []
  },
  {
   "cell_type": "code",
   "execution_count": 491,
   "metadata": {},
   "outputs": [],
   "source": [
    "tr=pd.concat([X_train,X_valid],axis=0)\n",
    "yr=pd.concat([y_train,y_valid])"
   ]
  },
  {
   "cell_type": "code",
   "execution_count": null,
   "metadata": {},
   "outputs": [],
   "source": []
  },
  {
   "cell_type": "code",
   "execution_count": 437,
   "metadata": {},
   "outputs": [],
   "source": [
    "a=tr.select_dtypes(exclude=['float64','int64']).columns.to_list()"
   ]
  },
  {
   "cell_type": "code",
   "execution_count": 438,
   "metadata": {},
   "outputs": [
    {
     "data": {
      "text/plain": [
       "['Gender', 'OverTime', 'single', 'divorced']"
      ]
     },
     "execution_count": 438,
     "metadata": {},
     "output_type": "execute_result"
    }
   ],
   "source": [
    "a"
   ]
  },
  {
   "cell_type": "code",
   "execution_count": 495,
   "metadata": {},
   "outputs": [
    {
     "ename": "TypeError",
     "evalue": "fit() missing 1 required positional argument: 'y'",
     "output_type": "error",
     "traceback": [
      "\u001b[1;31m---------------------------------------------------------------------------\u001b[0m",
      "\u001b[1;31mTypeError\u001b[0m                                 Traceback (most recent call last)",
      "\u001b[1;32m<ipython-input-495-7f266a23d5e6>\u001b[0m in \u001b[0;36m<module>\u001b[1;34m\u001b[0m\n\u001b[1;32m----> 1\u001b[1;33m \u001b[0mml\u001b[0m\u001b[1;33m=\u001b[0m\u001b[0mXGBClassifier\u001b[0m\u001b[1;33m.\u001b[0m\u001b[0mfit\u001b[0m\u001b[1;33m(\u001b[0m\u001b[0mtr\u001b[0m\u001b[1;33m,\u001b[0m\u001b[0myr\u001b[0m\u001b[1;33m)\u001b[0m\u001b[1;33m\u001b[0m\u001b[1;33m\u001b[0m\u001b[0m\n\u001b[0m",
      "\u001b[1;31mTypeError\u001b[0m: fit() missing 1 required positional argument: 'y'"
     ]
    }
   ],
   "source": [
    "ml=XGBClassifier.fit(tr,yr)"
   ]
  },
  {
   "cell_type": "code",
   "execution_count": 440,
   "metadata": {},
   "outputs": [
    {
     "ename": "ValueError",
     "evalue": "Number of features of the model must match the input. Model n_features is 13 and input n_features is 25 ",
     "output_type": "error",
     "traceback": [
      "\u001b[1;31m---------------------------------------------------------------------------\u001b[0m",
      "\u001b[1;31mValueError\u001b[0m                                Traceback (most recent call last)",
      "\u001b[1;32m<ipython-input-440-4afc72c5f6c3>\u001b[0m in \u001b[0;36m<module>\u001b[1;34m\u001b[0m\n\u001b[1;32m----> 1\u001b[1;33m \u001b[0mpre\u001b[0m\u001b[1;33m=\u001b[0m\u001b[0mml\u001b[0m\u001b[1;33m.\u001b[0m\u001b[0mpredict\u001b[0m\u001b[1;33m(\u001b[0m\u001b[0mX_valid\u001b[0m\u001b[1;33m)\u001b[0m\u001b[1;33m\u001b[0m\u001b[1;33m\u001b[0m\u001b[0m\n\u001b[0m",
      "\u001b[1;32m~\\Anaconda3\\lib\\site-packages\\sklearn\\ensemble\\_weight_boosting.py\u001b[0m in \u001b[0;36mpredict\u001b[1;34m(self, X)\u001b[0m\n\u001b[0;32m    631\u001b[0m         \u001b[0mX\u001b[0m \u001b[1;33m=\u001b[0m \u001b[0mself\u001b[0m\u001b[1;33m.\u001b[0m\u001b[0m_check_X\u001b[0m\u001b[1;33m(\u001b[0m\u001b[0mX\u001b[0m\u001b[1;33m)\u001b[0m\u001b[1;33m\u001b[0m\u001b[1;33m\u001b[0m\u001b[0m\n\u001b[0;32m    632\u001b[0m \u001b[1;33m\u001b[0m\u001b[0m\n\u001b[1;32m--> 633\u001b[1;33m         \u001b[0mpred\u001b[0m \u001b[1;33m=\u001b[0m \u001b[0mself\u001b[0m\u001b[1;33m.\u001b[0m\u001b[0mdecision_function\u001b[0m\u001b[1;33m(\u001b[0m\u001b[0mX\u001b[0m\u001b[1;33m)\u001b[0m\u001b[1;33m\u001b[0m\u001b[1;33m\u001b[0m\u001b[0m\n\u001b[0m\u001b[0;32m    634\u001b[0m \u001b[1;33m\u001b[0m\u001b[0m\n\u001b[0;32m    635\u001b[0m         \u001b[1;32mif\u001b[0m \u001b[0mself\u001b[0m\u001b[1;33m.\u001b[0m\u001b[0mn_classes_\u001b[0m \u001b[1;33m==\u001b[0m \u001b[1;36m2\u001b[0m\u001b[1;33m:\u001b[0m\u001b[1;33m\u001b[0m\u001b[1;33m\u001b[0m\u001b[0m\n",
      "\u001b[1;32m~\\Anaconda3\\lib\\site-packages\\sklearn\\ensemble\\_weight_boosting.py\u001b[0m in \u001b[0;36mdecision_function\u001b[1;34m(self, X)\u001b[0m\n\u001b[0;32m    701\u001b[0m             \u001b[1;31m# The weights are all 1. for SAMME.R\u001b[0m\u001b[1;33m\u001b[0m\u001b[1;33m\u001b[0m\u001b[1;33m\u001b[0m\u001b[0m\n\u001b[0;32m    702\u001b[0m             pred = sum(_samme_proba(estimator, n_classes, X)\n\u001b[1;32m--> 703\u001b[1;33m                        for estimator in self.estimators_)\n\u001b[0m\u001b[0;32m    704\u001b[0m         \u001b[1;32melse\u001b[0m\u001b[1;33m:\u001b[0m  \u001b[1;31m# self.algorithm == \"SAMME\"\u001b[0m\u001b[1;33m\u001b[0m\u001b[1;33m\u001b[0m\u001b[0m\n\u001b[0;32m    705\u001b[0m             pred = sum((estimator.predict(X) == classes).T * w\n",
      "\u001b[1;32m~\\Anaconda3\\lib\\site-packages\\sklearn\\ensemble\\_weight_boosting.py\u001b[0m in \u001b[0;36m<genexpr>\u001b[1;34m(.0)\u001b[0m\n\u001b[0;32m    701\u001b[0m             \u001b[1;31m# The weights are all 1. for SAMME.R\u001b[0m\u001b[1;33m\u001b[0m\u001b[1;33m\u001b[0m\u001b[1;33m\u001b[0m\u001b[0m\n\u001b[0;32m    702\u001b[0m             pred = sum(_samme_proba(estimator, n_classes, X)\n\u001b[1;32m--> 703\u001b[1;33m                        for estimator in self.estimators_)\n\u001b[0m\u001b[0;32m    704\u001b[0m         \u001b[1;32melse\u001b[0m\u001b[1;33m:\u001b[0m  \u001b[1;31m# self.algorithm == \"SAMME\"\u001b[0m\u001b[1;33m\u001b[0m\u001b[1;33m\u001b[0m\u001b[0m\n\u001b[0;32m    705\u001b[0m             pred = sum((estimator.predict(X) == classes).T * w\n",
      "\u001b[1;32m~\\Anaconda3\\lib\\site-packages\\sklearn\\ensemble\\_weight_boosting.py\u001b[0m in \u001b[0;36m_samme_proba\u001b[1;34m(estimator, n_classes, X)\u001b[0m\n\u001b[0;32m    271\u001b[0m \u001b[1;33m\u001b[0m\u001b[0m\n\u001b[0;32m    272\u001b[0m     \"\"\"\n\u001b[1;32m--> 273\u001b[1;33m     \u001b[0mproba\u001b[0m \u001b[1;33m=\u001b[0m \u001b[0mestimator\u001b[0m\u001b[1;33m.\u001b[0m\u001b[0mpredict_proba\u001b[0m\u001b[1;33m(\u001b[0m\u001b[0mX\u001b[0m\u001b[1;33m)\u001b[0m\u001b[1;33m\u001b[0m\u001b[1;33m\u001b[0m\u001b[0m\n\u001b[0m\u001b[0;32m    274\u001b[0m \u001b[1;33m\u001b[0m\u001b[0m\n\u001b[0;32m    275\u001b[0m     \u001b[1;31m# Displace zero probabilities so the log is defined.\u001b[0m\u001b[1;33m\u001b[0m\u001b[1;33m\u001b[0m\u001b[1;33m\u001b[0m\u001b[0m\n",
      "\u001b[1;32m~\\Anaconda3\\lib\\site-packages\\sklearn\\tree\\_classes.py\u001b[0m in \u001b[0;36mpredict_proba\u001b[1;34m(self, X, check_input)\u001b[0m\n\u001b[0;32m    920\u001b[0m         \"\"\"\n\u001b[0;32m    921\u001b[0m         \u001b[0mcheck_is_fitted\u001b[0m\u001b[1;33m(\u001b[0m\u001b[0mself\u001b[0m\u001b[1;33m)\u001b[0m\u001b[1;33m\u001b[0m\u001b[1;33m\u001b[0m\u001b[0m\n\u001b[1;32m--> 922\u001b[1;33m         \u001b[0mX\u001b[0m \u001b[1;33m=\u001b[0m \u001b[0mself\u001b[0m\u001b[1;33m.\u001b[0m\u001b[0m_validate_X_predict\u001b[0m\u001b[1;33m(\u001b[0m\u001b[0mX\u001b[0m\u001b[1;33m,\u001b[0m \u001b[0mcheck_input\u001b[0m\u001b[1;33m)\u001b[0m\u001b[1;33m\u001b[0m\u001b[1;33m\u001b[0m\u001b[0m\n\u001b[0m\u001b[0;32m    923\u001b[0m         \u001b[0mproba\u001b[0m \u001b[1;33m=\u001b[0m \u001b[0mself\u001b[0m\u001b[1;33m.\u001b[0m\u001b[0mtree_\u001b[0m\u001b[1;33m.\u001b[0m\u001b[0mpredict\u001b[0m\u001b[1;33m(\u001b[0m\u001b[0mX\u001b[0m\u001b[1;33m)\u001b[0m\u001b[1;33m\u001b[0m\u001b[1;33m\u001b[0m\u001b[0m\n\u001b[0;32m    924\u001b[0m \u001b[1;33m\u001b[0m\u001b[0m\n",
      "\u001b[1;32m~\\Anaconda3\\lib\\site-packages\\sklearn\\tree\\_classes.py\u001b[0m in \u001b[0;36m_validate_X_predict\u001b[1;34m(self, X, check_input)\u001b[0m\n\u001b[0;32m    397\u001b[0m                              \u001b[1;34m\"match the input. Model n_features is %s and \"\u001b[0m\u001b[1;33m\u001b[0m\u001b[1;33m\u001b[0m\u001b[0m\n\u001b[0;32m    398\u001b[0m                              \u001b[1;34m\"input n_features is %s \"\u001b[0m\u001b[1;33m\u001b[0m\u001b[1;33m\u001b[0m\u001b[0m\n\u001b[1;32m--> 399\u001b[1;33m                              % (self.n_features_, n_features))\n\u001b[0m\u001b[0;32m    400\u001b[0m \u001b[1;33m\u001b[0m\u001b[0m\n\u001b[0;32m    401\u001b[0m         \u001b[1;32mreturn\u001b[0m \u001b[0mX\u001b[0m\u001b[1;33m\u001b[0m\u001b[1;33m\u001b[0m\u001b[0m\n",
      "\u001b[1;31mValueError\u001b[0m: Number of features of the model must match the input. Model n_features is 13 and input n_features is 25 "
     ]
    }
   ],
   "source": [
    "pre=ml.predict(X_valid)"
   ]
  },
  {
   "cell_type": "code",
   "execution_count": null,
   "metadata": {},
   "outputs": [],
   "source": []
  },
  {
   "cell_type": "code",
   "execution_count": 426,
   "metadata": {},
   "outputs": [
    {
     "name": "stdout",
     "output_type": "stream",
     "text": [
      "[[243  12]\n",
      " [  0 234]]\n",
      "\n",
      "\n",
      "              precision    recall  f1-score   support\n",
      "\n",
      "           0       1.00      0.95      0.98       255\n",
      "           1       0.95      1.00      0.97       234\n",
      "\n",
      "    accuracy                           0.98       489\n",
      "   macro avg       0.98      0.98      0.98       489\n",
      "weighted avg       0.98      0.98      0.98       489\n",
      "\n",
      "0.9764705882352941\n"
     ]
    }
   ],
   "source": [
    "print(confusion_matrix(y_valid,pre))\n",
    "print('\\n')\n",
    "print(classification_report(y_valid,pre))\n",
    "print(roc_auc_score(y_valid,pre))"
   ]
  },
  {
   "cell_type": "code",
   "execution_count": null,
   "metadata": {},
   "outputs": [],
   "source": []
  },
  {
   "cell_type": "code",
   "execution_count": null,
   "metadata": {},
   "outputs": [],
   "source": []
  },
  {
   "cell_type": "code",
   "execution_count": null,
   "metadata": {},
   "outputs": [],
   "source": []
  },
  {
   "cell_type": "code",
   "execution_count": null,
   "metadata": {},
   "outputs": [],
   "source": []
  },
  {
   "cell_type": "code",
   "execution_count": null,
   "metadata": {},
   "outputs": [],
   "source": []
  },
  {
   "cell_type": "code",
   "execution_count": null,
   "metadata": {},
   "outputs": [],
   "source": []
  },
  {
   "cell_type": "code",
   "execution_count": null,
   "metadata": {},
   "outputs": [],
   "source": []
  },
  {
   "cell_type": "code",
   "execution_count": 371,
   "metadata": {},
   "outputs": [],
   "source": [
    "#X_test.TotalWorkingYears.value_counts()"
   ]
  },
  {
   "cell_type": "code",
   "execution_count": 372,
   "metadata": {},
   "outputs": [
    {
     "data": {
      "text/plain": [
       "0.41962315584989435"
      ]
     },
     "execution_count": 372,
     "metadata": {},
     "output_type": "execute_result"
    }
   ],
   "source": [
    "np.mean(X_test.TotalWorkingYears)"
   ]
  },
  {
   "cell_type": "code",
   "execution_count": null,
   "metadata": {},
   "outputs": [],
   "source": []
  },
  {
   "cell_type": "code",
   "execution_count": 496,
   "metadata": {},
   "outputs": [
    {
     "ename": "ValueError",
     "evalue": "Input contains NaN, infinity or a value too large for dtype('float64').",
     "output_type": "error",
     "traceback": [
      "\u001b[1;31m---------------------------------------------------------------------------\u001b[0m",
      "\u001b[1;31mValueError\u001b[0m                                Traceback (most recent call last)",
      "\u001b[1;32m<ipython-input-496-301cd3dd87e1>\u001b[0m in \u001b[0;36m<module>\u001b[1;34m\u001b[0m\n\u001b[1;32m----> 1\u001b[1;33m \u001b[0mpro\u001b[0m\u001b[1;33m=\u001b[0m\u001b[0mml\u001b[0m\u001b[1;33m.\u001b[0m\u001b[0mpredict_proba\u001b[0m\u001b[1;33m(\u001b[0m\u001b[0mX_test\u001b[0m\u001b[1;33m)\u001b[0m\u001b[1;33m[\u001b[0m\u001b[1;33m:\u001b[0m\u001b[1;33m,\u001b[0m\u001b[1;36m1\u001b[0m\u001b[1;33m]\u001b[0m\u001b[1;33m\u001b[0m\u001b[1;33m\u001b[0m\u001b[0m\n\u001b[0m",
      "\u001b[1;32m~\\Anaconda3\\lib\\site-packages\\sklearn\\ensemble\\_weight_boosting.py\u001b[0m in \u001b[0;36mpredict_proba\u001b[1;34m(self, X)\u001b[0m\n\u001b[0;32m    805\u001b[0m         \"\"\"\n\u001b[0;32m    806\u001b[0m         \u001b[0mcheck_is_fitted\u001b[0m\u001b[1;33m(\u001b[0m\u001b[0mself\u001b[0m\u001b[1;33m)\u001b[0m\u001b[1;33m\u001b[0m\u001b[1;33m\u001b[0m\u001b[0m\n\u001b[1;32m--> 807\u001b[1;33m         \u001b[0mX\u001b[0m \u001b[1;33m=\u001b[0m \u001b[0mself\u001b[0m\u001b[1;33m.\u001b[0m\u001b[0m_check_X\u001b[0m\u001b[1;33m(\u001b[0m\u001b[0mX\u001b[0m\u001b[1;33m)\u001b[0m\u001b[1;33m\u001b[0m\u001b[1;33m\u001b[0m\u001b[0m\n\u001b[0m\u001b[0;32m    808\u001b[0m \u001b[1;33m\u001b[0m\u001b[0m\n\u001b[0;32m    809\u001b[0m         \u001b[0mn_classes\u001b[0m \u001b[1;33m=\u001b[0m \u001b[0mself\u001b[0m\u001b[1;33m.\u001b[0m\u001b[0mn_classes_\u001b[0m\u001b[1;33m\u001b[0m\u001b[1;33m\u001b[0m\u001b[0m\n",
      "\u001b[1;32m~\\Anaconda3\\lib\\site-packages\\sklearn\\ensemble\\_weight_boosting.py\u001b[0m in \u001b[0;36m_check_X\u001b[1;34m(self, X)\u001b[0m\n\u001b[0;32m     75\u001b[0m     \u001b[1;32mdef\u001b[0m \u001b[0m_check_X\u001b[0m\u001b[1;33m(\u001b[0m\u001b[0mself\u001b[0m\u001b[1;33m,\u001b[0m \u001b[0mX\u001b[0m\u001b[1;33m)\u001b[0m\u001b[1;33m:\u001b[0m\u001b[1;33m\u001b[0m\u001b[1;33m\u001b[0m\u001b[0m\n\u001b[0;32m     76\u001b[0m         return check_array(X, accept_sparse=['csr', 'csc'], ensure_2d=True,\n\u001b[1;32m---> 77\u001b[1;33m                            allow_nd=True, dtype=None)\n\u001b[0m\u001b[0;32m     78\u001b[0m \u001b[1;33m\u001b[0m\u001b[0m\n\u001b[0;32m     79\u001b[0m     \u001b[1;32mdef\u001b[0m \u001b[0mfit\u001b[0m\u001b[1;33m(\u001b[0m\u001b[0mself\u001b[0m\u001b[1;33m,\u001b[0m \u001b[0mX\u001b[0m\u001b[1;33m,\u001b[0m \u001b[0my\u001b[0m\u001b[1;33m,\u001b[0m \u001b[0msample_weight\u001b[0m\u001b[1;33m=\u001b[0m\u001b[1;32mNone\u001b[0m\u001b[1;33m)\u001b[0m\u001b[1;33m:\u001b[0m\u001b[1;33m\u001b[0m\u001b[1;33m\u001b[0m\u001b[0m\n",
      "\u001b[1;32m~\\Anaconda3\\lib\\site-packages\\sklearn\\utils\\validation.py\u001b[0m in \u001b[0;36minner_f\u001b[1;34m(*args, **kwargs)\u001b[0m\n\u001b[0;32m     71\u001b[0m                           FutureWarning)\n\u001b[0;32m     72\u001b[0m         \u001b[0mkwargs\u001b[0m\u001b[1;33m.\u001b[0m\u001b[0mupdate\u001b[0m\u001b[1;33m(\u001b[0m\u001b[1;33m{\u001b[0m\u001b[0mk\u001b[0m\u001b[1;33m:\u001b[0m \u001b[0marg\u001b[0m \u001b[1;32mfor\u001b[0m \u001b[0mk\u001b[0m\u001b[1;33m,\u001b[0m \u001b[0marg\u001b[0m \u001b[1;32min\u001b[0m \u001b[0mzip\u001b[0m\u001b[1;33m(\u001b[0m\u001b[0msig\u001b[0m\u001b[1;33m.\u001b[0m\u001b[0mparameters\u001b[0m\u001b[1;33m,\u001b[0m \u001b[0margs\u001b[0m\u001b[1;33m)\u001b[0m\u001b[1;33m}\u001b[0m\u001b[1;33m)\u001b[0m\u001b[1;33m\u001b[0m\u001b[1;33m\u001b[0m\u001b[0m\n\u001b[1;32m---> 73\u001b[1;33m         \u001b[1;32mreturn\u001b[0m \u001b[0mf\u001b[0m\u001b[1;33m(\u001b[0m\u001b[1;33m**\u001b[0m\u001b[0mkwargs\u001b[0m\u001b[1;33m)\u001b[0m\u001b[1;33m\u001b[0m\u001b[1;33m\u001b[0m\u001b[0m\n\u001b[0m\u001b[0;32m     74\u001b[0m     \u001b[1;32mreturn\u001b[0m \u001b[0minner_f\u001b[0m\u001b[1;33m\u001b[0m\u001b[1;33m\u001b[0m\u001b[0m\n\u001b[0;32m     75\u001b[0m \u001b[1;33m\u001b[0m\u001b[0m\n",
      "\u001b[1;32m~\\Anaconda3\\lib\\site-packages\\sklearn\\utils\\validation.py\u001b[0m in \u001b[0;36mcheck_array\u001b[1;34m(array, accept_sparse, accept_large_sparse, dtype, order, copy, force_all_finite, ensure_2d, allow_nd, ensure_min_samples, ensure_min_features, estimator)\u001b[0m\n\u001b[0;32m    644\u001b[0m         \u001b[1;32mif\u001b[0m \u001b[0mforce_all_finite\u001b[0m\u001b[1;33m:\u001b[0m\u001b[1;33m\u001b[0m\u001b[1;33m\u001b[0m\u001b[0m\n\u001b[0;32m    645\u001b[0m             _assert_all_finite(array,\n\u001b[1;32m--> 646\u001b[1;33m                                allow_nan=force_all_finite == 'allow-nan')\n\u001b[0m\u001b[0;32m    647\u001b[0m \u001b[1;33m\u001b[0m\u001b[0m\n\u001b[0;32m    648\u001b[0m     \u001b[1;32mif\u001b[0m \u001b[0mensure_min_samples\u001b[0m \u001b[1;33m>\u001b[0m \u001b[1;36m0\u001b[0m\u001b[1;33m:\u001b[0m\u001b[1;33m\u001b[0m\u001b[1;33m\u001b[0m\u001b[0m\n",
      "\u001b[1;32m~\\Anaconda3\\lib\\site-packages\\sklearn\\utils\\validation.py\u001b[0m in \u001b[0;36m_assert_all_finite\u001b[1;34m(X, allow_nan, msg_dtype)\u001b[0m\n\u001b[0;32m     98\u001b[0m                     \u001b[0mmsg_err\u001b[0m\u001b[1;33m.\u001b[0m\u001b[0mformat\u001b[0m\u001b[1;33m\u001b[0m\u001b[1;33m\u001b[0m\u001b[0m\n\u001b[0;32m     99\u001b[0m                     (type_err,\n\u001b[1;32m--> 100\u001b[1;33m                      msg_dtype if msg_dtype is not None else X.dtype)\n\u001b[0m\u001b[0;32m    101\u001b[0m             )\n\u001b[0;32m    102\u001b[0m     \u001b[1;31m# for object dtype data, we only check for NaNs (GH-13254)\u001b[0m\u001b[1;33m\u001b[0m\u001b[1;33m\u001b[0m\u001b[1;33m\u001b[0m\u001b[0m\n",
      "\u001b[1;31mValueError\u001b[0m: Input contains NaN, infinity or a value too large for dtype('float64')."
     ]
    }
   ],
   "source": [
    "pro=ml.predict_proba(X_test)[:,1]"
   ]
  },
  {
   "cell_type": "code",
   "execution_count": 442,
   "metadata": {},
   "outputs": [],
   "source": [
    "predict=pd.DataFrame(pro,index=X_test.index,columns=['Attrition'])"
   ]
  },
  {
   "cell_type": "code",
   "execution_count": 443,
   "metadata": {},
   "outputs": [],
   "source": [
    "predict.to_csv('prediction.csv')"
   ]
  },
  {
   "cell_type": "code",
   "execution_count": 444,
   "metadata": {},
   "outputs": [
    {
     "data": {
      "text/html": [
       "<div>\n",
       "<style scoped>\n",
       "    .dataframe tbody tr th:only-of-type {\n",
       "        vertical-align: middle;\n",
       "    }\n",
       "\n",
       "    .dataframe tbody tr th {\n",
       "        vertical-align: top;\n",
       "    }\n",
       "\n",
       "    .dataframe thead th {\n",
       "        text-align: right;\n",
       "    }\n",
       "</style>\n",
       "<table border=\"1\" class=\"dataframe\">\n",
       "  <thead>\n",
       "    <tr style=\"text-align: right;\">\n",
       "      <th></th>\n",
       "      <th>Attrition</th>\n",
       "    </tr>\n",
       "    <tr>\n",
       "      <th>Id</th>\n",
       "      <th></th>\n",
       "    </tr>\n",
       "  </thead>\n",
       "  <tbody>\n",
       "    <tr>\n",
       "      <th>1</th>\n",
       "      <td>0.499657</td>\n",
       "    </tr>\n",
       "    <tr>\n",
       "      <th>2</th>\n",
       "      <td>0.499556</td>\n",
       "    </tr>\n",
       "    <tr>\n",
       "      <th>3</th>\n",
       "      <td>0.500010</td>\n",
       "    </tr>\n",
       "    <tr>\n",
       "      <th>4</th>\n",
       "      <td>0.500172</td>\n",
       "    </tr>\n",
       "    <tr>\n",
       "      <th>5</th>\n",
       "      <td>0.500068</td>\n",
       "    </tr>\n",
       "    <tr>\n",
       "      <th>...</th>\n",
       "      <td>...</td>\n",
       "    </tr>\n",
       "    <tr>\n",
       "      <th>466</th>\n",
       "      <td>0.500025</td>\n",
       "    </tr>\n",
       "    <tr>\n",
       "      <th>467</th>\n",
       "      <td>0.500197</td>\n",
       "    </tr>\n",
       "    <tr>\n",
       "      <th>468</th>\n",
       "      <td>0.499737</td>\n",
       "    </tr>\n",
       "    <tr>\n",
       "      <th>469</th>\n",
       "      <td>0.499514</td>\n",
       "    </tr>\n",
       "    <tr>\n",
       "      <th>470</th>\n",
       "      <td>0.499846</td>\n",
       "    </tr>\n",
       "  </tbody>\n",
       "</table>\n",
       "<p>470 rows × 1 columns</p>\n",
       "</div>"
      ],
      "text/plain": [
       "     Attrition\n",
       "Id            \n",
       "1     0.499657\n",
       "2     0.499556\n",
       "3     0.500010\n",
       "4     0.500172\n",
       "5     0.500068\n",
       "..         ...\n",
       "466   0.500025\n",
       "467   0.500197\n",
       "468   0.499737\n",
       "469   0.499514\n",
       "470   0.499846\n",
       "\n",
       "[470 rows x 1 columns]"
      ]
     },
     "execution_count": 444,
     "metadata": {},
     "output_type": "execute_result"
    }
   ],
   "source": [
    "predict"
   ]
  },
  {
   "cell_type": "code",
   "execution_count": null,
   "metadata": {},
   "outputs": [],
   "source": []
  },
  {
   "cell_type": "code",
   "execution_count": null,
   "metadata": {},
   "outputs": [],
   "source": []
  },
  {
   "cell_type": "code",
   "execution_count": null,
   "metadata": {},
   "outputs": [],
   "source": []
  },
  {
   "cell_type": "code",
   "execution_count": null,
   "metadata": {},
   "outputs": [],
   "source": []
  },
  {
   "cell_type": "code",
   "execution_count": null,
   "metadata": {},
   "outputs": [],
   "source": []
  },
  {
   "cell_type": "code",
   "execution_count": null,
   "metadata": {},
   "outputs": [],
   "source": []
  },
  {
   "cell_type": "code",
   "execution_count": null,
   "metadata": {},
   "outputs": [],
   "source": []
  },
  {
   "cell_type": "code",
   "execution_count": null,
   "metadata": {},
   "outputs": [],
   "source": []
  },
  {
   "cell_type": "code",
   "execution_count": null,
   "metadata": {},
   "outputs": [],
   "source": []
  },
  {
   "cell_type": "code",
   "execution_count": null,
   "metadata": {},
   "outputs": [],
   "source": []
  },
  {
   "cell_type": "code",
   "execution_count": null,
   "metadata": {},
   "outputs": [],
   "source": []
  },
  {
   "cell_type": "code",
   "execution_count": null,
   "metadata": {},
   "outputs": [],
   "source": []
  },
  {
   "cell_type": "code",
   "execution_count": null,
   "metadata": {},
   "outputs": [],
   "source": []
  },
  {
   "cell_type": "code",
   "execution_count": null,
   "metadata": {},
   "outputs": [],
   "source": []
  },
  {
   "cell_type": "code",
   "execution_count": null,
   "metadata": {},
   "outputs": [],
   "source": []
  },
  {
   "cell_type": "code",
   "execution_count": null,
   "metadata": {},
   "outputs": [],
   "source": []
  },
  {
   "cell_type": "code",
   "execution_count": null,
   "metadata": {},
   "outputs": [],
   "source": []
  },
  {
   "cell_type": "code",
   "execution_count": null,
   "metadata": {},
   "outputs": [],
   "source": []
  },
  {
   "cell_type": "code",
   "execution_count": null,
   "metadata": {},
   "outputs": [],
   "source": []
  },
  {
   "cell_type": "code",
   "execution_count": null,
   "metadata": {},
   "outputs": [],
   "source": []
  },
  {
   "cell_type": "code",
   "execution_count": null,
   "metadata": {},
   "outputs": [],
   "source": []
  },
  {
   "cell_type": "code",
   "execution_count": null,
   "metadata": {},
   "outputs": [],
   "source": []
  },
  {
   "cell_type": "code",
   "execution_count": null,
   "metadata": {},
   "outputs": [],
   "source": []
  },
  {
   "cell_type": "code",
   "execution_count": null,
   "metadata": {},
   "outputs": [],
   "source": [
    "="
   ]
  }
 ],
 "metadata": {
  "kernelspec": {
   "display_name": "Python 3",
   "language": "python",
   "name": "python3"
  },
  "language_info": {
   "codemirror_mode": {
    "name": "ipython",
    "version": 3
   },
   "file_extension": ".py",
   "mimetype": "text/x-python",
   "name": "python",
   "nbconvert_exporter": "python",
   "pygments_lexer": "ipython3",
   "version": "3.7.4"
  }
 },
 "nbformat": 4,
 "nbformat_minor": 2
}
